{
  "cells": [
    {
      "cell_type": "code",
      "execution_count": 1,
      "metadata": {
        "id": "MpYvg_ZSHJ45",
        "colab": {
          "base_uri": "https://localhost:8080/"
        },
        "outputId": "291ba084-12bd-418d-87b0-0c3a64dcb1fa"
      },
      "outputs": [
        {
          "output_type": "stream",
          "name": "stdout",
          "text": [
            "Requirement already satisfied: pandas in /usr/local/lib/python3.11/dist-packages (2.2.2)\n",
            "Requirement already satisfied: numpy>=1.23.2 in /usr/local/lib/python3.11/dist-packages (from pandas) (2.0.2)\n",
            "Requirement already satisfied: python-dateutil>=2.8.2 in /usr/local/lib/python3.11/dist-packages (from pandas) (2.9.0.post0)\n",
            "Requirement already satisfied: pytz>=2020.1 in /usr/local/lib/python3.11/dist-packages (from pandas) (2025.2)\n",
            "Requirement already satisfied: tzdata>=2022.7 in /usr/local/lib/python3.11/dist-packages (from pandas) (2025.2)\n",
            "Requirement already satisfied: six>=1.5 in /usr/local/lib/python3.11/dist-packages (from python-dateutil>=2.8.2->pandas) (1.17.0)\n"
          ]
        }
      ],
      "source": [
        "!pip install pandas"
      ]
    },
    {
      "cell_type": "code",
      "source": [
        "import kagglehub\n",
        "\n",
        "# Download latest version\n",
        "path = kagglehub.dataset_download(\"arashnic/fitbit\")\n",
        "path = '/root/.cache/kagglehub/datasets/arashnic/fitbit/versions/2/mturkfitbit_export_3.12.16-4.11.16/Fitabase Data 3.12.16-4.11.16'\n",
        "print(\"Path to dataset files:\", path)"
      ],
      "metadata": {
        "colab": {
          "base_uri": "https://localhost:8080/"
        },
        "id": "d5gjxzLK3ilY",
        "outputId": "5d02a89b-ce5b-46fe-b311-6be09375861e"
      },
      "execution_count": 8,
      "outputs": [
        {
          "output_type": "stream",
          "name": "stdout",
          "text": [
            "Path to dataset files: /root/.cache/kagglehub/datasets/arashnic/fitbit/versions/2/mturkfitbit_export_3.12.16-4.11.16/Fitabase Data 3.12.16-4.11.16\n"
          ]
        }
      ]
    },
    {
      "cell_type": "markdown",
      "source": [],
      "metadata": {
        "id": "hHxPnTle3vvj"
      }
    },
    {
      "cell_type": "code",
      "source": [
        "import pandas as pd\n",
        "import os\n",
        "\n",
        "# Use path returned by kagglehub\n",
        "daily_activity = pd.read_csv(os.path.join(path, \"dailyActivity_merged.csv\"))\n",
        "heartrate = pd.read_csv(os.path.join(path, \"heartrate_seconds_merged.csv\"))\n",
        "hourly_calories = pd.read_csv(os.path.join(path, \"hourlyCalories_merged.csv\"))\n",
        "hourly_intensities = pd.read_csv(os.path.join(path, \"hourlyIntensities_merged.csv\"))\n",
        "hourly_steps = pd.read_csv(os.path.join(path, \"hourlySteps_merged.csv\"))\n",
        "minute_calories = pd.read_csv(os.path.join(path, \"minuteCaloriesNarrow_merged.csv\"))\n",
        "minute_intensities = pd.read_csv(os.path.join(path, \"minuteIntensitiesNarrow_merged.csv\"))\n",
        "minute_mets = pd.read_csv(os.path.join(path, \"minuteMETsNarrow_merged.csv\"))\n",
        "minute_sleep = pd.read_csv(os.path.join(path, \"minuteSleep_merged.csv\"))\n",
        "minute_steps = pd.read_csv(os.path.join(path, \"minuteStepsNarrow_merged.csv\"))\n",
        "weight_log = pd.read_csv(os.path.join(path, \"weightLogInfo_merged.csv\"))\n"
      ],
      "metadata": {
        "id": "oEkDzogj3Rpv"
      },
      "execution_count": 9,
      "outputs": []
    },
    {
      "cell_type": "code",
      "source": [
        "user_id = 1503960366\n",
        "user_tables = {\n",
        "    'Daily Activity': daily_activity[daily_activity['Id'] == user_id],\n",
        "    'Heart Rate': heartrate[heartrate['Id'] == user_id],\n",
        "    'Hourly Calories': hourly_calories[hourly_calories['Id'] == user_id],\n",
        "    'Hourly Intensities': hourly_intensities[hourly_intensities['Id'] == user_id],\n",
        "    'Hourly Steps': hourly_steps[hourly_steps['Id'] == user_id],\n",
        "    'Minute Calories': minute_calories[minute_calories['Id'] == user_id],\n",
        "    'Minute Intensities': minute_intensities[minute_intensities['Id'] == user_id],\n",
        "    'Minute METs': minute_mets[minute_mets['Id'] == user_id],\n",
        "    'Minute Sleep': minute_sleep[minute_sleep['Id'] == user_id],\n",
        "    'Minute Steps': minute_steps[minute_steps['Id'] == user_id],\n",
        "    'Weight Log': weight_log[weight_log['Id'] == user_id],\n",
        "}\n"
      ],
      "metadata": {
        "id": "ig_WpK514lgl"
      },
      "execution_count": 22,
      "outputs": []
    },
    {
      "cell_type": "code",
      "source": [
        "for name, df in user_tables.items():\n",
        "    print(f\"\\n=== {name} ===\")\n",
        "\n",
        "    # Check if 'StepTotal' column exists in the current DataFrame\n",
        "    if 'StepTotal' in df.columns:\n",
        "        filtered_df = df[df['StepTotal'] != 0]\n",
        "    else:\n",
        "        filtered_df = df  # no filtering if no StepTotal column\n",
        "\n",
        "    display(filtered_df)"
      ],
      "metadata": {
        "collapsed": true,
        "id": "wiKxvgV27gkq"
      },
      "execution_count": 40,
      "outputs": []
    },
    {
      "cell_type": "code",
      "source": [
        "import pandas as pd\n",
        "import matplotlib.pyplot as plt\n",
        "from datetime import date\n",
        "\n",
        "# Step 1: Extract the hourly steps DataFrame for the user\n",
        "hourly_steps_df = user_tables['Hourly Steps'].copy()\n",
        "\n",
        "# Step 2: Convert 'ActivityHour' to datetime\n",
        "hourly_steps_df['ActivityHour'] = pd.to_datetime(hourly_steps_df['ActivityHour'])\n",
        "\n",
        "# Step 3: Extract 'Date' and 'Hour' from datetime\n",
        "hourly_steps_df['Date'] = hourly_steps_df['ActivityHour'].dt.date\n",
        "hourly_steps_df['Hour'] = hourly_steps_df['ActivityHour'].dt.hour\n",
        "\n",
        "# Step 4: Filter the data for the target date\n",
        "target_date = date(2016, 3, 12)\n",
        "filtered_df = hourly_steps_df[hourly_steps_df['Date'] == target_date]\n",
        "\n",
        "# Step 5: Define time block labels based on hour\n",
        "def get_time_block(hour):\n",
        "    if 0 <= hour < 6:\n",
        "        return '00-06'\n",
        "    elif 6 <= hour < 12:\n",
        "        return '06-12'\n",
        "    elif 12 <= hour < 18:\n",
        "        return '12-18'\n",
        "    else:\n",
        "        return '18-24'\n",
        "\n",
        "# Step 6: Create a new column for time blocks\n",
        "filtered_df['TimeBlock'] = filtered_df['Hour'].apply(get_time_block)\n",
        "\n",
        "# Step 7: Group by TimeBlock and sum steps\n",
        "steps_by_block = filtered_df.groupby('TimeBlock')['StepTotal'].sum().reindex(['00-06', '06-12', '12-18', '18-24'])\n",
        "\n",
        "# Step 8: Plot the result\n",
        "plt.figure(figsize=(8, 5))\n",
        "steps_by_block.plot(kind='bar', color='mediumseagreen')\n",
        "\n",
        "plt.title(f'Steps per Time Block on {target_date} for User {user_id}')\n",
        "plt.xlabel('Time Block')\n",
        "plt.ylabel('Total Steps')\n",
        "plt.xticks(rotation=0)\n",
        "plt.grid(axis='y', linestyle='--', alpha=0.6)\n",
        "plt.tight_layout()\n",
        "plt.show()\n"
      ],
      "metadata": {
        "colab": {
          "base_uri": "https://localhost:8080/",
          "height": 611
        },
        "id": "LUr7pbesZQ0p",
        "outputId": "ca9c3dde-4f67-4c8f-bba3-f4f825922998"
      },
      "execution_count": 39,
      "outputs": [
        {
          "output_type": "stream",
          "name": "stderr",
          "text": [
            "<ipython-input-39-1559843146>:31: SettingWithCopyWarning: \n",
            "A value is trying to be set on a copy of a slice from a DataFrame.\n",
            "Try using .loc[row_indexer,col_indexer] = value instead\n",
            "\n",
            "See the caveats in the documentation: https://pandas.pydata.org/pandas-docs/stable/user_guide/indexing.html#returning-a-view-versus-a-copy\n",
            "  filtered_df['TimeBlock'] = filtered_df['Hour'].apply(get_time_block)\n"
          ]
        },
        {
          "output_type": "display_data",
          "data": {
            "text/plain": [
              "<Figure size 800x500 with 1 Axes>"
            ],
            "image/png": "[encoded data removed]"
          },
          "metadata": {}
        }
      ]
    },
    {
      "cell_type": "code",
      "execution_count": 4,
      "metadata": {
        "id": "GJ2IZnY0spOf"
      },
      "outputs": [],
      "source": [
        "!huggingface-cli login"
      ]
    },
    {
      "cell_type": "markdown",
      "metadata": {
        "id": "DQs-1g9pO2vc"
      },
      "source": [
        "# ContactDoctor Bio Medical LLM"
      ]
    },
    {
      "cell_type": "code",
      "execution_count": null,
      "metadata": {
        "id": "3zBB_GqePIUt"
      },
      "outputs": [],
      "source": [
        "!pip install -q transformers accelerate bitsandbytes gradio flash_attn"
      ]
    },
    {
      "cell_type": "code",
      "execution_count": null,
      "metadata": {
        "id": "vFQNul7TO1AW"
      },
      "outputs": [],
      "source": [
        "import torch\n",
        "from PIL import Image\n",
        "import gradio as gr\n",
        "from transformers import AutoModel, AutoTokenizer, BitsAndBytesConfig\n",
        "from transformers import AutoModelForCausalLM\n",
        "\n",
        "# ---- Model Setup ----\n",
        "model_id = \"ContactDoctor/Bio-Medical-Llama-3-8B\"\n",
        "\n",
        "bnb_config = BitsAndBytesConfig( load_in_4bit=True, bnb_4bit_quant_type=\"nf4\",\n",
        "                                bnb_4bit_use_double_quant=True,\n",
        "                                bnb_4bit_compute_dtype=torch.float16, )\n",
        "\n",
        "print(\"🔄 Loading tokenizer...\")\n",
        "tokenizer = AutoTokenizer.from_pretrained(model_id, trust_remote_code=True)\n",
        "\n",
        "print(\"🔄 Loading model...\")\n",
        "model = AutoModelForCausalLM.from_pretrained(\n",
        "    model_id,\n",
        "    quantization_config=bnb_config,\n",
        "    device_map=\"auto\",\n",
        "    torch_dtype=torch.float16,\n",
        "    trust_remote_code=True,\n",
        ")\n",
        "\n",
        "# ---- Chat Function ----\n",
        "def chat_only_interface(message, history):\n",
        "\n",
        "#the tempelet to receive the prompts\n",
        "    prompt_template = f\"\"\"\n",
        "  You are a wellbeing adviser. Respond to the user's condition using the following format:\n",
        "\n",
        "  1. Food Recommendation:\n",
        "  2. Physical Exercise:\n",
        "  3. Social Wellbeing Recommendation:\n",
        "  4. Overall Suggestion:\n",
        "\n",
        "  User Input: \"{message}\"\n",
        "  \"\"\"\n",
        "    inputs = tokenizer(prompt_template, return_tensors=\"pt\").to(model.device)\n",
        "\n",
        "    outputs = model.generate(\n",
        "        **inputs,\n",
        "        max_new_tokens=512,\n",
        "        temperature=0.95,\n",
        "        do_sample=True,\n",
        "        top_p=0.9,\n",
        "        repetition_penalty=1.1,\n",
        "    )\n",
        "\n",
        "    response = tokenizer.decode(outputs[0], skip_special_tokens=True)\n",
        "    # Trim to just the model's response part\n",
        "    generated_text = response.split(\"User Input:\")[1] if \"User Input:\" in response else response\n",
        "\n",
        "    with open(\"chat_history.txt\", \"a\", encoding=\"utf-8\") as f:\n",
        "        f.write(f\"User: {message}\\n\")\n",
        "        f.write(f\"Model: {response}\\n\\n\")\n",
        "\n",
        "    return generated_text.strip()\n",
        "\n",
        "# ---- Chat Interface ----\n",
        "gr.ChatInterface(\n",
        "    fn=chat_only_interface,\n",
        "    title=\"🧠 Bio-Medical LLaMA 3 Chat\",\n",
        "    description=\"Ask wellness or medical-related questions.\",\n",
        ").queue().launch(debug=True, share=True)\n",
        "\n"
      ]
    }
  ],
  "metadata": {
    "colab": {
      "provenance": [],
      "mount_file_id": "160L8ZkqbBQac84dKxP0_dlSfONCvFDHC",
      "authorship_tag": "ABX9TyOZK5VBxQeVt782IQUz8tPH"
    },
    "kernelspec": {
      "display_name": "Python 3",
      "name": "python3"
    },
    "language_info": {
      "name": "python"
    }
  },
  "nbformat": 4,
  "nbformat_minor": 0
}