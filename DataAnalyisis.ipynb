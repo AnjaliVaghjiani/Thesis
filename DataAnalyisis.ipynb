{
  "cells": [
    {
      "cell_type": "code",
      "execution_count": 9,
      "metadata": {
        "id": "MpYvg_ZSHJ45",
        "collapsed": true,
        "outputId": "420f14f7-68b7-4ad3-8727-0db2a5b7a21b",
        "colab": {
          "base_uri": "https://localhost:8080/"
        }
      },
      "outputs": [
        {
          "output_type": "stream",
          "name": "stdout",
          "text": [
            "Requirement already satisfied: pandas in /usr/local/lib/python3.11/dist-packages (2.2.2)\n",
            "Requirement already satisfied: numpy>=1.23.2 in /usr/local/lib/python3.11/dist-packages (from pandas) (2.0.2)\n",
            "Requirement already satisfied: python-dateutil>=2.8.2 in /usr/local/lib/python3.11/dist-packages (from pandas) (2.9.0.post0)\n",
            "Requirement already satisfied: pytz>=2020.1 in /usr/local/lib/python3.11/dist-packages (from pandas) (2025.2)\n",
            "Requirement already satisfied: tzdata>=2022.7 in /usr/local/lib/python3.11/dist-packages (from pandas) (2025.2)\n",
            "Requirement already satisfied: six>=1.5 in /usr/local/lib/python3.11/dist-packages (from python-dateutil>=2.8.2->pandas) (1.17.0)\n"
          ]
        }
      ],
      "source": [
        "!pip install pandas"
      ]
    },
    {
      "cell_type": "code",
      "source": [
        "import kagglehub\n",
        "\n",
        "# Download latest version\n",
        "path = kagglehub.dataset_download(\"arashnic/fitbit\")\n",
        "path = '/root/.cache/kagglehub/datasets/arashnic/fitbit/versions/2/mturkfitbit_export_3.12.16-4.11.16/Fitabase Data 3.12.16-4.11.16'\n",
        "print(\"Path to dataset files:\", path)"
      ],
      "metadata": {
        "id": "d5gjxzLK3ilY",
        "outputId": "35830e36-0aa2-44de-cc70-bdfd148bf977",
        "colab": {
          "base_uri": "https://localhost:8080/"
        }
      },
      "execution_count": 10,
      "outputs": [
        {
          "output_type": "stream",
          "name": "stdout",
          "text": [
            "Path to dataset files: /root/.cache/kagglehub/datasets/arashnic/fitbit/versions/2/mturkfitbit_export_3.12.16-4.11.16/Fitabase Data 3.12.16-4.11.16\n"
          ]
        }
      ]
    },
    {
      "cell_type": "code",
      "source": [
        "import pandas as pd\n",
        "import os\n",
        "\n",
        "# Use path returned by kagglehub\n",
        "daily_activity = pd.read_csv(os.path.join(path, \"dailyActivity_merged.csv\"))\n",
        "heartrate = pd.read_csv(os.path.join(path, \"heartrate_seconds_merged.csv\"))\n",
        "hourly_calories = pd.read_csv(os.path.join(path, \"hourlyCalories_merged.csv\"))\n",
        "hourly_intensities = pd.read_csv(os.path.join(path, \"hourlyIntensities_merged.csv\"))\n",
        "hourly_steps = pd.read_csv(os.path.join(path, \"hourlySteps_merged.csv\"))\n",
        "minute_calories = pd.read_csv(os.path.join(path, \"minuteCaloriesNarrow_merged.csv\"))\n",
        "minute_intensities = pd.read_csv(os.path.join(path, \"minuteIntensitiesNarrow_merged.csv\"))\n",
        "minute_mets = pd.read_csv(os.path.join(path, \"minuteMETsNarrow_merged.csv\"))\n",
        "minute_sleep = pd.read_csv(os.path.join(path, \"minuteSleep_merged.csv\"))\n",
        "minute_steps = pd.read_csv(os.path.join(path, \"minuteStepsNarrow_merged.csv\"))\n",
        "weight_log = pd.read_csv(os.path.join(path, \"weightLogInfo_merged.csv\"))\n"
      ],
      "metadata": {
        "id": "oEkDzogj3Rpv"
      },
      "execution_count": 17,
      "outputs": []
    },
    {
      "cell_type": "code",
      "source": [
        "user_id = 1503960366\n",
        "user_tables = {\n",
        "    'Daily Activity': daily_activity[daily_activity['Id'] == user_id],\n",
        "    'Heart Rate': heartrate[heartrate['Id'] == user_id],\n",
        "    'Hourly Calories': hourly_calories[hourly_calories['Id'] == user_id],\n",
        "    'Hourly Intensities': hourly_intensities[hourly_intensities['Id'] == user_id],\n",
        "    'Hourly Steps': hourly_steps[hourly_steps['Id'] == user_id],\n",
        "    'Minute Calories': minute_calories[minute_calories['Id'] == user_id],\n",
        "    'Minute Intensities': minute_intensities[minute_intensities['Id'] == user_id],\n",
        "    'Minute METs': minute_mets[minute_mets['Id'] == user_id],\n",
        "    'Minute Sleep': minute_sleep[minute_sleep['Id'] == user_id],\n",
        "    'Minute Steps': minute_steps[minute_steps['Id'] == user_id],\n",
        "    'Weight Log': weight_log[weight_log['Id'] == user_id],\n",
        "}\n"
      ],
      "metadata": {
        "id": "ig_WpK514lgl"
      },
      "execution_count": 18,
      "outputs": []
    },
    {
      "cell_type": "code",
      "source": [
        "for name, df in user_tables.items():\n",
        "    print(f\"\\n=== {name} ===\")\n",
        "\n",
        "    # Check if 'StepTotal' column exists in the current DataFrame\n",
        "    if 'StepTotal' in df.columns:\n",
        "        filtered_df = df[df['StepTotal'] != 0]\n",
        "    else:\n",
        "        filtered_df = df  # no filtering if no StepTotal column\n",
        "\n",
        "    display(filtered_df)"
      ],
      "metadata": {
        "collapsed": true,
        "id": "wiKxvgV27gkq"
      },
      "execution_count": null,
      "outputs": []
    },
    {
      "cell_type": "markdown",
      "source": [
        "## Steps analysis day/hrs"
      ],
      "metadata": {
        "id": "Vp8GE2uqhrP8"
      }
    },
    {
      "cell_type": "code",
      "source": [
        "import pandas as pd\n",
        "import matplotlib.pyplot as plt\n",
        "from datetime import date\n",
        "\n",
        "# Step 1: Extract the hourly steps DataFrame for the user\n",
        "hourly_steps_df = user_tables['Hourly Steps'].copy()\n",
        "\n",
        "# Step 2: Convert 'ActivityHour' to datetime\n",
        "hourly_steps_df['ActivityHour'] = pd.to_datetime(hourly_steps_df['ActivityHour'])\n",
        "\n",
        "# Step 3: Extract 'Date' and 'Hour' from datetime\n",
        "hourly_steps_df['Date'] = hourly_steps_df['ActivityHour'].dt.date\n",
        "hourly_steps_df['Hour'] = hourly_steps_df['ActivityHour'].dt.hour\n",
        "\n",
        "# Step 4: Filter the data for the target date\n",
        "target_date = date(2016, 3, 25)\n",
        "filtered_df = hourly_steps_df[hourly_steps_df['Date'] == target_date]\n",
        "\n",
        "# Step 5: Define time block labels based on hour\n",
        "def get_time_block(hour):\n",
        "    if 0 <= hour < 6:\n",
        "        return '00-06'\n",
        "    elif 6 <= hour < 12:\n",
        "        return '06-12'\n",
        "    elif 12 <= hour < 18:\n",
        "        return '12-18'\n",
        "    else:\n",
        "        return '18-24'\n",
        "\n",
        "# Step 6: Create a new column for time blocks\n",
        "filtered_df['TimeBlock'] = filtered_df['Hour'].apply(get_time_block)\n",
        "\n",
        "# Step 7: Group by TimeBlock and sum steps\n",
        "steps_by_block = filtered_df.groupby('TimeBlock')['StepTotal'].sum().reindex(['00-06', '06-12', '12-18', '18-24'])\n",
        "\n",
        "# Step 8: Plot the result\n",
        "plt.figure(figsize=(8, 5))\n",
        "steps_by_block.plot(kind='bar', color='mediumseagreen')\n",
        "\n",
        "plt.title(f'Steps per Time Block on {target_date} for User {user_id}')\n",
        "plt.xlabel('Time Block')\n",
        "plt.ylabel('Total Steps')\n",
        "plt.xticks(rotation=0)\n",
        "plt.grid(axis='y', linestyle='--', alpha=0.6)\n",
        "plt.tight_layout()\n",
        "plt.show()\n",
        "\n",
        "\n",
        "total_daily_steps = filtered_df['StepTotal'].sum()\n",
        "print(f\"Total steps on {target_date}: {total_daily_steps}\")\n"
      ],
      "metadata": {
        "collapsed": true,
        "id": "LUr7pbesZQ0p"
      },
      "execution_count": null,
      "outputs": []
    },
    {
      "cell_type": "markdown",
      "source": [
        "## Sleep Analysis minutes/type"
      ],
      "metadata": {
        "id": "pBntyoX_h6ex"
      }
    },
    {
      "cell_type": "code",
      "source": [
        "import pandas as pd\n",
        "import matplotlib.pyplot as plt\n",
        "from datetime import date\n",
        "\n",
        "# Step 1: Get the user's minute-level sleep data\n",
        "minute_sleep_df = user_tables['Minute Sleep'].copy()\n",
        "\n",
        "# Step 2: Convert the 'date' column to datetime if it's not already\n",
        "minute_sleep_df['date'] = pd.to_datetime(minute_sleep_df['date'])\n",
        "\n",
        "# Step 3: Filter for a specific date\n",
        "target_date = date(2016, 3, 25)  # Change as needed\n",
        "filtered_sleep = minute_sleep_df[minute_sleep_df['date'].dt.date == target_date]\n",
        "\n",
        "# Step 4: Map the numerical 'value' codes to sleep stage names\n",
        "sleep_stage_map = {\n",
        "    0: 'Awake',\n",
        "    1: 'Light',\n",
        "    2: 'Deep',\n",
        "    3: 'REM'\n",
        "}\n",
        "filtered_sleep['SleepStage'] = filtered_sleep['value'].map(sleep_stage_map)\n",
        "\n",
        "# Step 5: Count the number of minutes in each sleep stage\n",
        "sleep_stage_counts = filtered_sleep['SleepStage'].value_counts().reindex(['Awake', 'Light', 'Deep', 'REM'], fill_value=0)\n",
        "\n",
        "# Step 6: Plot the result\n",
        "plt.figure(figsize=(8, 5))\n",
        "sleep_stage_counts.plot(kind='bar', color='slateblue')\n",
        "\n",
        "plt.title(f'Sleep Stages on {target_date} for User {user_id}')\n",
        "plt.xlabel('Sleep Stage')\n",
        "plt.ylabel('Minutes Spent')\n",
        "plt.xticks(rotation=0)\n",
        "plt.grid(axis='y', linestyle='--', alpha=0.6)\n",
        "plt.tight_layout()\n",
        "plt.show()\n"
      ],
      "metadata": {
        "collapsed": true,
        "id": "vT_lsPZTh53s"
      },
      "execution_count": null,
      "outputs": []
    },
    {
      "cell_type": "markdown",
      "source": [
        "## activities"
      ],
      "metadata": {
        "id": "cGbVIK7ypqgp"
      }
    },
    {
      "cell_type": "code",
      "source": [
        "import pandas as pd\n",
        "import matplotlib.pyplot as plt\n",
        "from datetime import date\n",
        "\n",
        "# Step 1: Get the daily activity data for the user\n",
        "daily_activity_df = user_tables['Daily Activity'].copy()\n",
        "\n",
        "# Step 2: Convert the date column if it's not datetime\n",
        "daily_activity_df['ActivityDate'] = pd.to_datetime(daily_activity_df['ActivityDate'])\n",
        "\n",
        "# Step 3: Filter for the target date\n",
        "target_date = date(2016, 3, 25)\n",
        "filtered_df = daily_activity_df[daily_activity_df['ActivityDate'].dt.date == target_date]\n",
        "\n",
        "# Step 4: Extract activity minutes if the date is found\n",
        "if not filtered_df.empty:\n",
        "    light = filtered_df['LightlyActiveMinutes'].iloc[0]\n",
        "    moderate = filtered_df['FairlyActiveMinutes'].iloc[0]\n",
        "    active = filtered_df['VeryActiveMinutes'].iloc[0]\n",
        "\n",
        "    zone_minutes = moderate * 1 + active * 2\n",
        "    print(f\"Zone Minutes on {target_date}: {zone_minutes}\")\n",
        "\n",
        "    # Step 5: Prepare data for plotting\n",
        "    activity_levels = ['Light', 'Moderate', 'Very Active']\n",
        "    minutes = [light, moderate, active]\n",
        "\n",
        "    # Step 6: Plot\n",
        "    plt.figure(figsize=(7, 5))\n",
        "    plt.bar(activity_levels, minutes, color=['lightblue', 'orange', 'crimson'])\n",
        "\n",
        "    plt.title(f'Activity Minutes on {target_date} for User {user_id}')\n",
        "    plt.xlabel('Activity Intensity')\n",
        "    plt.ylabel('Minutes Spent')\n",
        "    plt.grid(axis='y', linestyle='--', alpha=0.6)\n",
        "    plt.tight_layout()\n",
        "    plt.show()\n",
        "\n",
        "else:\n",
        "    print(f\"No data available for {target_date}\")\n"
      ],
      "metadata": {
        "collapsed": true,
        "id": "dbl9x4mFsU5z"
      },
      "execution_count": null,
      "outputs": []
    },
    {
      "cell_type": "markdown",
      "source": [],
      "metadata": {
        "id": "xPP0hgSYxDmE"
      }
    },
    {
      "cell_type": "markdown",
      "source": [
        "## heart rate/ hrs"
      ],
      "metadata": {
        "id": "Vf7lEI--w_fc"
      }
    },
    {
      "cell_type": "code",
      "source": [
        "import pandas as pd\n",
        "import matplotlib.pyplot as plt\n",
        "from datetime import date\n",
        "\n",
        "# Step 1: Extract heart rate data\n",
        "heartrate_df = user_tables['Heart Rate'].copy()\n",
        "\n",
        "# Step 2: Convert time column to datetime\n",
        "heartrate_df['Time'] = pd.to_datetime(heartrate_df['Time'])\n",
        "\n",
        "# Step 3: Filter for target date\n",
        "target_date = date(2016, 4, 1)\n",
        "heartrate_df['Date'] = heartrate_df['Time'].dt.date\n",
        "filtered_df = heartrate_df[heartrate_df['Date'] == target_date]\n",
        "\n",
        "# Step 4: Extract hour from time\n",
        "filtered_df['Hour'] = filtered_df['Time'].dt.hour\n",
        "\n",
        "# Step 5: Define time blocks\n",
        "def get_time_block(hour):\n",
        "    if 0 <= hour < 6:\n",
        "        return '00-06'\n",
        "    elif 6 <= hour < 12:\n",
        "        return '06-12'\n",
        "    elif 12 <= hour < 18:\n",
        "        return '12-18'\n",
        "    else:\n",
        "        return '18-24'\n",
        "\n",
        "filtered_df['TimeBlock'] = filtered_df['Hour'].apply(get_time_block)\n",
        "\n",
        "# Step 6: Group by TimeBlock and calculate average heart rate\n",
        "avg_hr_by_block = filtered_df.groupby('TimeBlock')['Value'].mean().reindex(['00-06', '06-12', '12-18', '18-24'])\n",
        "\n",
        "# Step 7: Plot\n",
        "plt.figure(figsize=(8, 5))\n",
        "avg_hr_by_block.plot(kind='bar', color='tomato')\n",
        "\n",
        "plt.title(f'Average Heart Rate by Time Block on {target_date} for User {user_id}')\n",
        "plt.xlabel('Time Block')\n",
        "plt.ylabel('Avg Heart Rate (bpm)')\n",
        "plt.xticks(rotation=0)\n",
        "plt.grid(axis='y', linestyle='--', alpha=0.6)\n",
        "plt.tight_layout()\n",
        "plt.show()\n"
      ],
      "metadata": {
        "collapsed": true,
        "id": "98CzwDcRxlAP"
      },
      "execution_count": null,
      "outputs": []
    },
    {
      "cell_type": "markdown",
      "source": [
        "# Week Data"
      ],
      "metadata": {
        "id": "qfnd_7abV4p9"
      }
    },
    {
      "cell_type": "markdown",
      "source": [
        "## totalsteps/week"
      ],
      "metadata": {
        "id": "WA_u3KK6Gnch"
      }
    },
    {
      "cell_type": "code",
      "source": [
        "# Example week: Monday 2023-06-08 to Sunday 2023-06-14\n",
        "start_date = pd.to_datetime('2016-03-26')  # Monday\n",
        "end_date = pd.to_datetime('2016-04-01')    # Sunday"
      ],
      "metadata": {
        "id": "Y1PojnNdWWUw"
      },
      "execution_count": 28,
      "outputs": []
    },
    {
      "cell_type": "code",
      "source": [
        "\n",
        "# Copy and prepare the data\n",
        "daily_df = user_tables['Daily Activity'].copy()\n",
        "daily_df['ActivityDate'] = pd.to_datetime(daily_df['ActivityDate'])\n",
        "\n",
        "# Filter for the week of interest: Monday to Sunday\n",
        "\n",
        "\n",
        "mask = (daily_df['ActivityDate'] >= start_date) & (daily_df['ActivityDate'] <= end_date)\n",
        "week_df = daily_df.loc[mask]\n",
        "\n",
        "# Extract day name for x-axis\n",
        "week_df['DayName'] = week_df['ActivityDate'].dt.day_name()\n",
        "\n",
        "# Sort days in proper order\n",
        "day_order = ['Monday', 'Tuesday', 'Wednesday', 'Thursday', 'Friday', 'Saturday', 'Sunday']\n",
        "week_df['DayName'] = pd.Categorical(week_df['DayName'], categories=day_order, ordered=True)\n",
        "week_df = week_df.sort_values('DayName')\n",
        "\n",
        "# Summarize total steps for the week\n",
        "total_steps = week_df['TotalSteps'].sum()\n",
        "\n",
        "# Plot total steps per day for the week\n",
        "plt.figure(figsize=(9, 5))\n",
        "plt.bar(week_df['DayName'], week_df['TotalSteps'], color='cornflowerblue')\n",
        "\n",
        "plt.title(f'Total Steps Per Day ({start_date.date()} to {end_date.date()})')\n",
        "plt.xlabel('Day of Week')\n",
        "plt.ylabel('Total Steps')\n",
        "plt.grid(axis='y', linestyle='--', alpha=0.6)\n",
        "plt.tight_layout()\n",
        "plt.show()\n"
      ],
      "metadata": {
        "id": "iYQaQhTSGp-Z",
        "outputId": "d463110a-89d1-45ee-b2f4-00f93be1fb49",
        "colab": {
          "base_uri": "https://localhost:8080/",
          "height": 671
        }
      },
      "execution_count": 29,
      "outputs": [
        {
          "output_type": "stream",
          "name": "stderr",
          "text": [
            "<ipython-input-29-1358888750>:15: SettingWithCopyWarning: \n",
            "A value is trying to be set on a copy of a slice from a DataFrame.\n",
            "Try using .loc[row_indexer,col_indexer] = value instead\n",
            "\n",
            "See the caveats in the documentation: https://pandas.pydata.org/pandas-docs/stable/user_guide/indexing.html#returning-a-view-versus-a-copy\n",
            "  week_df['DayName'] = week_df['ActivityDate'].dt.day_name()\n",
            "<ipython-input-29-1358888750>:19: SettingWithCopyWarning: \n",
            "A value is trying to be set on a copy of a slice from a DataFrame.\n",
            "Try using .loc[row_indexer,col_indexer] = value instead\n",
            "\n",
            "See the caveats in the documentation: https://pandas.pydata.org/pandas-docs/stable/user_guide/indexing.html#returning-a-view-versus-a-copy\n",
            "  week_df['DayName'] = pd.Categorical(week_df['DayName'], categories=day_order, ordered=True)\n"
          ]
        },
        {
          "output_type": "display_data",
          "data": {
            "text/plain": [
              "<Figure size 900x500 with 1 Axes>"
            ],
            "image/png": "[encoded data removed]"
          },
          "metadata": {}
        }
      ]
    },
    {
      "cell_type": "markdown",
      "source": [
        "##Zone_Minute/week"
      ],
      "metadata": {
        "id": "lhxoJqBsKmf-"
      }
    },
    {
      "cell_type": "code",
      "source": [
        "\n",
        "# Copy and prepare data\n",
        "daily_df = user_tables['Daily Activity'].copy()\n",
        "daily_df['ActivityDate'] = pd.to_datetime(daily_df['ActivityDate'])\n",
        "\n",
        "\n",
        "\n",
        "# Filter data for the week\n",
        "mask = (daily_df['ActivityDate'] >= start_date) & (daily_df['ActivityDate'] <= end_date)\n",
        "week_df = daily_df.loc[mask]\n",
        "\n",
        "# Calculate zone minutes per day\n",
        "week_df['ZoneMinutes'] = (week_df['VeryActiveMinutes'] * 2) + week_df['FairlyActiveMinutes']\n",
        "\n",
        "# Get day names for x-axis\n",
        "week_df['DayName'] = week_df['ActivityDate'].dt.day_name()\n",
        "\n",
        "# Sort by weekday order\n",
        "day_order = ['Monday', 'Tuesday', 'Wednesday', 'Thursday', 'Friday', 'Saturday', 'Sunday']\n",
        "week_df['DayName'] = pd.Categorical(week_df['DayName'], categories=day_order, ordered=True)\n",
        "week_df = week_df.sort_values('DayName')\n",
        "\n",
        "week_df['DayDateLabel'] = week_df.apply(\n",
        "    lambda row: f\"{row['DayName']}\\n{row['ActivityDate'].strftime('%Y-%m-%d')}\", axis=1\n",
        ")\n",
        "\n",
        "# Summarize total zone minutes for the week\n",
        "total_zone_minutes = week_df['ZoneMinutes'].sum()\n",
        "# Plot zone minutes per day\n",
        "plt.figure(figsize=(10, 6))\n",
        "bars = plt.bar(week_df['DayDateLabel'], week_df['ZoneMinutes'], color='mediumseagreen')\n",
        "\n",
        "# Add value labels on top of each bar\n",
        "for bar in bars:\n",
        "    height = bar.get_height()\n",
        "    plt.text(bar.get_x() + bar.get_width() / 2, height, f'{int(height)}',\n",
        "             ha='center', va='bottom', fontsize=10)\n",
        "\n",
        "plt.title(f'Zone Minutes Per Day ({start_date.date()} to {end_date.date()})')\n",
        "plt.xlabel('Day and Date')\n",
        "plt.ylabel('Zone Minutes')\n",
        "plt.grid(axis='y', linestyle='--', alpha=0.6)\n",
        "plt.tight_layout()\n",
        "plt.show()\n",
        "\n",
        "\n",
        "\n"
      ],
      "metadata": {
        "id": "HUgGjxsOKpz1",
        "outputId": "4fab89cf-4dc3-4bad-9a32-e3b069174f12",
        "colab": {
          "base_uri": "https://localhost:8080/",
          "height": 810
        }
      },
      "execution_count": 30,
      "outputs": [
        {
          "output_type": "stream",
          "name": "stderr",
          "text": [
            "<ipython-input-30-846877145>:12: SettingWithCopyWarning: \n",
            "A value is trying to be set on a copy of a slice from a DataFrame.\n",
            "Try using .loc[row_indexer,col_indexer] = value instead\n",
            "\n",
            "See the caveats in the documentation: https://pandas.pydata.org/pandas-docs/stable/user_guide/indexing.html#returning-a-view-versus-a-copy\n",
            "  week_df['ZoneMinutes'] = (week_df['VeryActiveMinutes'] * 2) + week_df['FairlyActiveMinutes']\n",
            "<ipython-input-30-846877145>:15: SettingWithCopyWarning: \n",
            "A value is trying to be set on a copy of a slice from a DataFrame.\n",
            "Try using .loc[row_indexer,col_indexer] = value instead\n",
            "\n",
            "See the caveats in the documentation: https://pandas.pydata.org/pandas-docs/stable/user_guide/indexing.html#returning-a-view-versus-a-copy\n",
            "  week_df['DayName'] = week_df['ActivityDate'].dt.day_name()\n",
            "<ipython-input-30-846877145>:19: SettingWithCopyWarning: \n",
            "A value is trying to be set on a copy of a slice from a DataFrame.\n",
            "Try using .loc[row_indexer,col_indexer] = value instead\n",
            "\n",
            "See the caveats in the documentation: https://pandas.pydata.org/pandas-docs/stable/user_guide/indexing.html#returning-a-view-versus-a-copy\n",
            "  week_df['DayName'] = pd.Categorical(week_df['DayName'], categories=day_order, ordered=True)\n"
          ]
        },
        {
          "output_type": "display_data",
          "data": {
            "text/plain": [
              "<Figure size 1000x600 with 1 Axes>"
            ],
            "image/png": "[encoded data removed]"
          },
          "metadata": {}
        }
      ]
    },
    {
      "cell_type": "markdown",
      "source": [
        "## HeartRate/Week"
      ],
      "metadata": {
        "id": "cuD9Njo8N4kj"
      }
    },
    {
      "cell_type": "code",
      "source": [
        "# Copy heart rate data\n",
        "heartrate_df = user_tables['Heart Rate'].copy()\n",
        "\n",
        "# Convert 'Time' to datetime\n",
        "heartrate_df['Time'] = pd.to_datetime(heartrate_df['Time'])\n",
        "\n",
        "# Extract date from datetime\n",
        "heartrate_df['Date'] = heartrate_df['Time'].dt.date\n",
        "\n",
        "# Filter data for the week\n",
        "mask = (heartrate_df['Date'] >= start_date.date()) & (heartrate_df['Date'] <= end_date.date())\n",
        "# Rename week_df here to avoid overwriting the daily activity week_df\n",
        "week_hr_df = heartrate_df.loc[mask].copy()\n",
        "\n",
        "# Check if the filtered DataFrame is empty\n",
        "# Use week_hr_df here\n",
        "if not week_hr_df.empty:\n",
        "    # Group by Date and calculate average heart rate\n",
        "    # Use week_hr_df here\n",
        "    avg_hr_by_date = week_hr_df.groupby('Date')['Value'].mean().sort_index()\n",
        "    avg_heart_rate = avg_hr_by_date.mean()\n",
        "\n",
        "    # Plot average heart rate per day for the week\n",
        "    plt.figure(figsize=(10, 6))\n",
        "    avg_hr_by_date.plot(kind='bar', color='tomato')\n",
        "\n",
        "    plt.title(f'Average Heart Rate per Day ({start_date.date()} to {end_date.date()})')\n",
        "    plt.xlabel('Date')\n",
        "    plt.ylabel('Avg Heart Rate (bpm)')\n",
        "    plt.xticks(rotation=45)\n",
        "    plt.grid(axis='y', linestyle='--', alpha=0.6)\n",
        "    plt.tight_layout()\n",
        "    plt.show()\n",
        "else:\n",
        "    avg_hr_by_date = pd.Series(dtype='float64')  # Ensure it's defined even if empty\n",
        "    avg_heart_rate = None\n",
        "    print(f\"No heart rate data available for the week from {start_date.date()} to {end_date.date()}\")"
      ],
      "metadata": {
        "id": "1uZVUP3VN7UY",
        "outputId": "49dae2a1-1e1e-4251-9c37-5e837267db42",
        "colab": {
          "base_uri": "https://localhost:8080/"
        }
      },
      "execution_count": 34,
      "outputs": [
        {
          "output_type": "stream",
          "name": "stdout",
          "text": [
            "No heart rate data available for the week from 2016-03-26 to 2016-04-01\n"
          ]
        }
      ]
    },
    {
      "cell_type": "markdown",
      "source": [
        "## Summary text"
      ],
      "metadata": {
        "id": "9BGCo3hgU1k3"
      }
    },
    {
      "cell_type": "code",
      "source": [
        "# Heart Rate\n",
        "week_hr_df = heartrate_df.loc[mask].copy()\n",
        "\n",
        "# Daily Activity\n",
        "activity_df = user_tables['Daily Activity'].copy()\n",
        "activity_df['ActivityDate'] = pd.to_datetime(activity_df['ActivityDate'])\n",
        "\n",
        "# Reuse the same start_date and end_date here\n",
        "mask_activity = (activity_df['ActivityDate'] >= start_date) & (activity_df['ActivityDate'] <= end_date)\n",
        "week_activity_df = activity_df.loc[mask_activity].copy()\n",
        "\n",
        "# Add derived columns\n",
        "week_activity_df['DayName'] = week_activity_df['ActivityDate'].dt.day_name()\n",
        "week_activity_df['ZoneMinutes'] = (week_activity_df['VeryActiveMinutes'] * 2) + week_activity_df['FairlyActiveMinutes']\n"
      ],
      "metadata": {
        "id": "UNtjQnoTZLFn"
      },
      "execution_count": 37,
      "outputs": []
    },
    {
      "cell_type": "code",
      "source": [
        "# Convert heart rate daily average to dictionary\n",
        "avg_hr_by_date = week_hr_df.groupby('Date')['Value'].mean().sort_index()\n",
        "avg_hr_dict = avg_hr_by_date.to_dict()\n",
        "\n",
        "# Build the full weekly log\n",
        "daily_logs = f\"Weekly Activity Data ({start_date.date()} to {end_date.date()}):\\n\"\n",
        "daily_logs += \"-\" * 45 + \"\\n\\n\"\n",
        "\n",
        "for _, row in week_activity_df.iterrows():\n",
        "    date = row['ActivityDate'].date()\n",
        "    steps = row['TotalSteps']\n",
        "    zone_minutes = row['ZoneMinutes']\n",
        "    hr = round(avg_hr_dict.get(date, 0), 1)  # fallback if HR not present\n",
        "\n",
        "    daily_logs += (\n",
        "        f\"{row['DayName']} ({date}):\\n\"\n",
        "        f\"  - Total Steps: {steps}\\n\"\n",
        "        f\"  - Zone Minutes: {zone_minutes}\\n\"\n",
        "        f\"  - Avg Heart Rate: {hr} bpm\\n\\n\"\n",
        "    )\n",
        "\n",
        "print(daily_logs)\n"
      ],
      "metadata": {
        "id": "-3hxuA1DTuhZ",
        "outputId": "7ff8a9e8-c7d1-49ca-8f0e-67ab649d7695",
        "colab": {
          "base_uri": "https://localhost:8080/"
        }
      },
      "execution_count": 39,
      "outputs": [
        {
          "output_type": "stream",
          "name": "stdout",
          "text": [
            "Weekly Activity Data (2016-03-26 to 2016-04-01):\n",
            "---------------------------------------------\n",
            "\n",
            "Saturday (2016-03-26):\n",
            "  - Total Steps: 17609\n",
            "  - Zone Minutes: 195\n",
            "  - Avg Heart Rate: 0 bpm\n",
            "\n",
            "Sunday (2016-03-27):\n",
            "  - Total Steps: 12736\n",
            "  - Zone Minutes: 117\n",
            "  - Avg Heart Rate: 0 bpm\n",
            "\n",
            "Monday (2016-03-28):\n",
            "  - Total Steps: 13231\n",
            "  - Zone Minutes: 98\n",
            "  - Avg Heart Rate: 0 bpm\n",
            "\n",
            "Tuesday (2016-03-29):\n",
            "  - Total Steps: 12041\n",
            "  - Zone Minutes: 84\n",
            "  - Avg Heart Rate: 0 bpm\n",
            "\n",
            "Wednesday (2016-03-30):\n",
            "  - Total Steps: 10970\n",
            "  - Zone Minutes: 73\n",
            "  - Avg Heart Rate: 0 bpm\n",
            "\n",
            "Thursday (2016-03-31):\n",
            "  - Total Steps: 12256\n",
            "  - Zone Minutes: 78\n",
            "  - Avg Heart Rate: 0 bpm\n",
            "\n",
            "Friday (2016-04-01):\n",
            "  - Total Steps: 12262\n",
            "  - Zone Minutes: 115\n",
            "  - Avg Heart Rate: 0 bpm\n",
            "\n",
            "\n"
          ]
        }
      ]
    }
  ],
  "metadata": {
    "colab": {
      "provenance": [],
      "mount_file_id": "160L8ZkqbBQac84dKxP0_dlSfONCvFDHC",
      "authorship_tag": "ABX9TyMJhfHl0EvIObjmDUBUuECH"
    },
    "kernelspec": {
      "display_name": "Python 3",
      "name": "python3"
    },
    "language_info": {
      "name": "python"
    }
  },
  "nbformat": 4,
  "nbformat_minor": 0
}