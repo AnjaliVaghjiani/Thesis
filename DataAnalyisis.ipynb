{
  "cells": [
    {
      "cell_type": "code",
      "execution_count": null,
      "metadata": {
        "id": "MpYvg_ZSHJ45",
        "collapsed": true
      },
      "outputs": [],
      "source": [
        "!pip install pandas"
      ]
    },
    {
      "cell_type": "code",
      "source": [
        "import kagglehub\n",
        "\n",
        "# Download latest version\n",
        "path = kagglehub.dataset_download(\"arashnic/fitbit\")\n",
        "path = '/root/.cache/kagglehub/datasets/arashnic/fitbit/versions/2/mturkfitbit_export_3.12.16-4.11.16/Fitabase Data 3.12.16-4.11.16'\n",
        "print(\"Path to dataset files:\", path)"
      ],
      "metadata": {
        "id": "d5gjxzLK3ilY"
      },
      "execution_count": null,
      "outputs": []
    },
    {
      "cell_type": "code",
      "source": [
        "import pandas as pd\n",
        "import os\n",
        "\n",
        "# Use path returned by kagglehub\n",
        "daily_activity = pd.read_csv(os.path.join(path, \"dailyActivity_merged.csv\"))\n",
        "heartrate = pd.read_csv(os.path.join(path, \"heartrate_seconds_merged.csv\"))\n",
        "hourly_calories = pd.read_csv(os.path.join(path, \"hourlyCalories_merged.csv\"))\n",
        "hourly_intensities = pd.read_csv(os.path.join(path, \"hourlyIntensities_merged.csv\"))\n",
        "hourly_steps = pd.read_csv(os.path.join(path, \"hourlySteps_merged.csv\"))\n",
        "minute_calories = pd.read_csv(os.path.join(path, \"minuteCaloriesNarrow_merged.csv\"))\n",
        "minute_intensities = pd.read_csv(os.path.join(path, \"minuteIntensitiesNarrow_merged.csv\"))\n",
        "minute_mets = pd.read_csv(os.path.join(path, \"minuteMETsNarrow_merged.csv\"))\n",
        "minute_sleep = pd.read_csv(os.path.join(path, \"minuteSleep_merged.csv\"))\n",
        "minute_steps = pd.read_csv(os.path.join(path, \"minuteStepsNarrow_merged.csv\"))\n",
        "weight_log = pd.read_csv(os.path.join(path, \"weightLogInfo_merged.csv\"))\n"
      ],
      "metadata": {
        "id": "oEkDzogj3Rpv"
      },
      "execution_count": null,
      "outputs": []
    },
    {
      "cell_type": "code",
      "source": [
        "user_id = 1503960366\n",
        "user_tables = {\n",
        "    'Daily Activity': daily_activity[daily_activity['Id'] == user_id],\n",
        "    'Heart Rate': heartrate[heartrate['Id'] == user_id],\n",
        "    'Hourly Calories': hourly_calories[hourly_calories['Id'] == user_id],\n",
        "    'Hourly Intensities': hourly_intensities[hourly_intensities['Id'] == user_id],\n",
        "    'Hourly Steps': hourly_steps[hourly_steps['Id'] == user_id],\n",
        "    'Minute Calories': minute_calories[minute_calories['Id'] == user_id],\n",
        "    'Minute Intensities': minute_intensities[minute_intensities['Id'] == user_id],\n",
        "    'Minute METs': minute_mets[minute_mets['Id'] == user_id],\n",
        "    'Minute Sleep': minute_sleep[minute_sleep['Id'] == user_id],\n",
        "    'Minute Steps': minute_steps[minute_steps['Id'] == user_id],\n",
        "    'Weight Log': weight_log[weight_log['Id'] == user_id],\n",
        "}\n"
      ],
      "metadata": {
        "id": "ig_WpK514lgl"
      },
      "execution_count": null,
      "outputs": []
    },
    {
      "cell_type": "code",
      "source": [
        "for name, df in user_tables.items():\n",
        "    print(f\"\\n=== {name} ===\")\n",
        "\n",
        "    # Check if 'StepTotal' column exists in the current DataFrame\n",
        "    if 'StepTotal' in df.columns:\n",
        "        filtered_df = df[df['StepTotal'] != 0]\n",
        "    else:\n",
        "        filtered_df = df  # no filtering if no StepTotal column\n",
        "\n",
        "    display(filtered_df)"
      ],
      "metadata": {
        "collapsed": true,
        "id": "wiKxvgV27gkq"
      },
      "execution_count": null,
      "outputs": []
    },
    {
      "cell_type": "markdown",
      "source": [
        "## Steps analysis day/hrs"
      ],
      "metadata": {
        "id": "Vp8GE2uqhrP8"
      }
    },
    {
      "cell_type": "code",
      "source": [
        "import pandas as pd\n",
        "import matplotlib.pyplot as plt\n",
        "from datetime import date\n",
        "\n",
        "# Step 1: Extract the hourly steps DataFrame for the user\n",
        "hourly_steps_df = user_tables['Hourly Steps'].copy()\n",
        "\n",
        "# Step 2: Convert 'ActivityHour' to datetime\n",
        "hourly_steps_df['ActivityHour'] = pd.to_datetime(hourly_steps_df['ActivityHour'])\n",
        "\n",
        "# Step 3: Extract 'Date' and 'Hour' from datetime\n",
        "hourly_steps_df['Date'] = hourly_steps_df['ActivityHour'].dt.date\n",
        "hourly_steps_df['Hour'] = hourly_steps_df['ActivityHour'].dt.hour\n",
        "\n",
        "# Step 4: Filter the data for the target date\n",
        "target_date = date(2016, 3, 25)\n",
        "filtered_df = hourly_steps_df[hourly_steps_df['Date'] == target_date]\n",
        "\n",
        "# Step 5: Define time block labels based on hour\n",
        "def get_time_block(hour):\n",
        "    if 0 <= hour < 6:\n",
        "        return '00-06'\n",
        "    elif 6 <= hour < 12:\n",
        "        return '06-12'\n",
        "    elif 12 <= hour < 18:\n",
        "        return '12-18'\n",
        "    else:\n",
        "        return '18-24'\n",
        "\n",
        "# Step 6: Create a new column for time blocks\n",
        "filtered_df['TimeBlock'] = filtered_df['Hour'].apply(get_time_block)\n",
        "\n",
        "# Step 7: Group by TimeBlock and sum steps\n",
        "steps_by_block = filtered_df.groupby('TimeBlock')['StepTotal'].sum().reindex(['00-06', '06-12', '12-18', '18-24'])\n",
        "\n",
        "# Step 8: Plot the result\n",
        "plt.figure(figsize=(8, 5))\n",
        "steps_by_block.plot(kind='bar', color='mediumseagreen')\n",
        "\n",
        "plt.title(f'Steps per Time Block on {target_date} for User {user_id}')\n",
        "plt.xlabel('Time Block')\n",
        "plt.ylabel('Total Steps')\n",
        "plt.xticks(rotation=0)\n",
        "plt.grid(axis='y', linestyle='--', alpha=0.6)\n",
        "plt.tight_layout()\n",
        "plt.show()\n",
        "\n",
        "\n",
        "total_daily_steps = filtered_df['StepTotal'].sum()\n",
        "print(f\"Total steps on {target_date}: {total_daily_steps}\")\n"
      ],
      "metadata": {
        "collapsed": true,
        "id": "LUr7pbesZQ0p"
      },
      "execution_count": null,
      "outputs": []
    },
    {
      "cell_type": "markdown",
      "source": [
        "## Sleep Analysis minutes/type"
      ],
      "metadata": {
        "id": "pBntyoX_h6ex"
      }
    },
    {
      "cell_type": "code",
      "source": [
        "import pandas as pd\n",
        "import matplotlib.pyplot as plt\n",
        "from datetime import date\n",
        "\n",
        "# Step 1: Get the user's minute-level sleep data\n",
        "minute_sleep_df = user_tables['Minute Sleep'].copy()\n",
        "\n",
        "# Step 2: Convert the 'date' column to datetime if it's not already\n",
        "minute_sleep_df['date'] = pd.to_datetime(minute_sleep_df['date'])\n",
        "\n",
        "# Step 3: Filter for a specific date\n",
        "target_date = date(2016, 3, 25)  # Change as needed\n",
        "filtered_sleep = minute_sleep_df[minute_sleep_df['date'].dt.date == target_date]\n",
        "\n",
        "# Step 4: Map the numerical 'value' codes to sleep stage names\n",
        "sleep_stage_map = {\n",
        "    0: 'Awake',\n",
        "    1: 'Light',\n",
        "    2: 'Deep',\n",
        "    3: 'REM'\n",
        "}\n",
        "filtered_sleep['SleepStage'] = filtered_sleep['value'].map(sleep_stage_map)\n",
        "\n",
        "# Step 5: Count the number of minutes in each sleep stage\n",
        "sleep_stage_counts = filtered_sleep['SleepStage'].value_counts().reindex(['Awake', 'Light', 'Deep', 'REM'], fill_value=0)\n",
        "\n",
        "# Step 6: Plot the result\n",
        "plt.figure(figsize=(8, 5))\n",
        "sleep_stage_counts.plot(kind='bar', color='slateblue')\n",
        "\n",
        "plt.title(f'Sleep Stages on {target_date} for User {user_id}')\n",
        "plt.xlabel('Sleep Stage')\n",
        "plt.ylabel('Minutes Spent')\n",
        "plt.xticks(rotation=0)\n",
        "plt.grid(axis='y', linestyle='--', alpha=0.6)\n",
        "plt.tight_layout()\n",
        "plt.show()\n"
      ],
      "metadata": {
        "collapsed": true,
        "id": "vT_lsPZTh53s"
      },
      "execution_count": null,
      "outputs": []
    },
    {
      "cell_type": "markdown",
      "source": [
        "## activities"
      ],
      "metadata": {
        "id": "cGbVIK7ypqgp"
      }
    },
    {
      "cell_type": "code",
      "source": [
        "import pandas as pd\n",
        "import matplotlib.pyplot as plt\n",
        "from datetime import date\n",
        "\n",
        "# Step 1: Get the daily activity data for the user\n",
        "daily_activity_df = user_tables['Daily Activity'].copy()\n",
        "\n",
        "# Step 2: Convert the date column if it's not datetime\n",
        "daily_activity_df['ActivityDate'] = pd.to_datetime(daily_activity_df['ActivityDate'])\n",
        "\n",
        "# Step 3: Filter for the target date\n",
        "target_date = date(2016, 3, 25)\n",
        "filtered_df = daily_activity_df[daily_activity_df['ActivityDate'].dt.date == target_date]\n",
        "\n",
        "# Step 4: Extract activity minutes if the date is found\n",
        "if not filtered_df.empty:\n",
        "    light = filtered_df['LightlyActiveMinutes'].iloc[0]\n",
        "    moderate = filtered_df['FairlyActiveMinutes'].iloc[0]\n",
        "    active = filtered_df['VeryActiveMinutes'].iloc[0]\n",
        "\n",
        "    zone_minutes = moderate * 1 + active * 2\n",
        "    print(f\"Zone Minutes on {target_date}: {zone_minutes}\")\n",
        "\n",
        "    # Step 5: Prepare data for plotting\n",
        "    activity_levels = ['Light', 'Moderate', 'Very Active']\n",
        "    minutes = [light, moderate, active]\n",
        "\n",
        "    # Step 6: Plot\n",
        "    plt.figure(figsize=(7, 5))\n",
        "    plt.bar(activity_levels, minutes, color=['lightblue', 'orange', 'crimson'])\n",
        "\n",
        "    plt.title(f'Activity Minutes on {target_date} for User {user_id}')\n",
        "    plt.xlabel('Activity Intensity')\n",
        "    plt.ylabel('Minutes Spent')\n",
        "    plt.grid(axis='y', linestyle='--', alpha=0.6)\n",
        "    plt.tight_layout()\n",
        "    plt.show()\n",
        "\n",
        "else:\n",
        "    print(f\"No data available for {target_date}\")\n"
      ],
      "metadata": {
        "collapsed": true,
        "id": "dbl9x4mFsU5z"
      },
      "execution_count": null,
      "outputs": []
    },
    {
      "cell_type": "markdown",
      "source": [],
      "metadata": {
        "id": "xPP0hgSYxDmE"
      }
    },
    {
      "cell_type": "markdown",
      "source": [
        "## heart rate/ hrs"
      ],
      "metadata": {
        "id": "Vf7lEI--w_fc"
      }
    },
    {
      "cell_type": "code",
      "source": [
        "import pandas as pd\n",
        "import matplotlib.pyplot as plt\n",
        "from datetime import date\n",
        "\n",
        "# Step 1: Extract heart rate data\n",
        "heartrate_df = user_tables['Heart Rate'].copy()\n",
        "\n",
        "# Step 2: Convert time column to datetime\n",
        "heartrate_df['Time'] = pd.to_datetime(heartrate_df['Time'])\n",
        "\n",
        "# Step 3: Filter for target date\n",
        "target_date = date(2016, 4, 1)\n",
        "heartrate_df['Date'] = heartrate_df['Time'].dt.date\n",
        "filtered_df = heartrate_df[heartrate_df['Date'] == target_date]\n",
        "\n",
        "# Step 4: Extract hour from time\n",
        "filtered_df['Hour'] = filtered_df['Time'].dt.hour\n",
        "\n",
        "# Step 5: Define time blocks\n",
        "def get_time_block(hour):\n",
        "    if 0 <= hour < 6:\n",
        "        return '00-06'\n",
        "    elif 6 <= hour < 12:\n",
        "        return '06-12'\n",
        "    elif 12 <= hour < 18:\n",
        "        return '12-18'\n",
        "    else:\n",
        "        return '18-24'\n",
        "\n",
        "filtered_df['TimeBlock'] = filtered_df['Hour'].apply(get_time_block)\n",
        "\n",
        "# Step 6: Group by TimeBlock and calculate average heart rate\n",
        "avg_hr_by_block = filtered_df.groupby('TimeBlock')['Value'].mean().reindex(['00-06', '06-12', '12-18', '18-24'])\n",
        "\n",
        "# Step 7: Plot\n",
        "plt.figure(figsize=(8, 5))\n",
        "avg_hr_by_block.plot(kind='bar', color='tomato')\n",
        "\n",
        "plt.title(f'Average Heart Rate by Time Block on {target_date} for User {user_id}')\n",
        "plt.xlabel('Time Block')\n",
        "plt.ylabel('Avg Heart Rate (bpm)')\n",
        "plt.xticks(rotation=0)\n",
        "plt.grid(axis='y', linestyle='--', alpha=0.6)\n",
        "plt.tight_layout()\n",
        "plt.show()\n"
      ],
      "metadata": {
        "collapsed": true,
        "id": "98CzwDcRxlAP"
      },
      "execution_count": null,
      "outputs": []
    },
    {
      "cell_type": "markdown",
      "source": [
        "## totalsteps/week"
      ],
      "metadata": {
        "id": "WA_u3KK6Gnch"
      }
    },
    {
      "cell_type": "code",
      "source": [
        "import pandas as pd\n",
        "import matplotlib.pyplot as plt\n",
        "\n",
        "# Copy and prepare the data\n",
        "daily_df = user_tables['Daily Activity'].copy()\n",
        "daily_df['ActivityDate'] = pd.to_datetime(daily_df['ActivityDate'])\n",
        "\n",
        "# Filter for the week of interest: Monday to Sunday\n",
        "# Example week: Monday 2023-06-08 to Sunday 2023-06-14\n",
        "start_date = pd.to_datetime('2016-03-26')  # Monday\n",
        "end_date = pd.to_datetime('2016-04-01')    # Sunday\n",
        "\n",
        "mask = (daily_df['ActivityDate'] >= start_date) & (daily_df['ActivityDate'] <= end_date)\n",
        "week_df = daily_df.loc[mask]\n",
        "\n",
        "# Extract day name for x-axis\n",
        "week_df['DayName'] = week_df['ActivityDate'].dt.day_name()\n",
        "\n",
        "# Sort days in proper order\n",
        "day_order = ['Monday', 'Tuesday', 'Wednesday', 'Thursday', 'Friday', 'Saturday', 'Sunday']\n",
        "week_df['DayName'] = pd.Categorical(week_df['DayName'], categories=day_order, ordered=True)\n",
        "week_df = week_df.sort_values('DayName')\n",
        "\n",
        "# Plot total steps per day for the week\n",
        "plt.figure(figsize=(9, 5))\n",
        "plt.bar(week_df['DayName'], week_df['TotalSteps'], color='cornflowerblue')\n",
        "\n",
        "plt.title(f'Total Steps Per Day ({start_date.date()} to {end_date.date()})')\n",
        "plt.xlabel('Day of Week')\n",
        "plt.ylabel('Total Steps')\n",
        "plt.grid(axis='y', linestyle='--', alpha=0.6)\n",
        "plt.tight_layout()\n",
        "plt.show()\n"
      ],
      "metadata": {
        "id": "iYQaQhTSGp-Z"
      },
      "execution_count": null,
      "outputs": []
    },
    {
      "cell_type": "markdown",
      "source": [
        "##Zone_Minute/week"
      ],
      "metadata": {
        "id": "lhxoJqBsKmf-"
      }
    },
    {
      "cell_type": "code",
      "source": [
        "\n",
        "# Copy and prepare data\n",
        "daily_df = user_tables['Daily Activity'].copy()\n",
        "daily_df['ActivityDate'] = pd.to_datetime(daily_df['ActivityDate'])\n",
        "\n",
        "# Define week range (Monday to Sunday)\n",
        "start_date = pd.to_datetime('2016-03-26')  # Monday\n",
        "end_date = pd.to_datetime('2016-04-01')    # Sunday\n",
        "\n",
        "# Filter data for the week\n",
        "mask = (daily_df['ActivityDate'] >= start_date) & (daily_df['ActivityDate'] <= end_date)\n",
        "week_df = daily_df.loc[mask]\n",
        "\n",
        "# Calculate zone minutes per day\n",
        "week_df['ZoneMinutes'] = (week_df['VeryActiveMinutes'] * 2) + week_df['FairlyActiveMinutes']\n",
        "\n",
        "# Get day names for x-axis\n",
        "week_df['DayName'] = week_df['ActivityDate'].dt.day_name()\n",
        "\n",
        "# Sort by weekday order\n",
        "day_order = ['Monday', 'Tuesday', 'Wednesday', 'Thursday', 'Friday', 'Saturday', 'Sunday']\n",
        "week_df['DayName'] = pd.Categorical(week_df['DayName'], categories=day_order, ordered=True)\n",
        "week_df = week_df.sort_values('DayName')\n",
        "\n",
        "week_df['DayDateLabel'] = week_df.apply(\n",
        "    lambda row: f\"{row['DayName']}\\n{row['ActivityDate'].strftime('%Y-%m-%d')}\", axis=1\n",
        ")\n",
        "# Plot zone minutes per day\n",
        "plt.figure(figsize=(10, 6))\n",
        "bars = plt.bar(week_df['DayDateLabel'], week_df['ZoneMinutes'], color='mediumseagreen')\n",
        "\n",
        "# Add value labels on top of each bar\n",
        "for bar in bars:\n",
        "    height = bar.get_height()\n",
        "    plt.text(bar.get_x() + bar.get_width() / 2, height, f'{int(height)}',\n",
        "             ha='center', va='bottom', fontsize=10)\n",
        "\n",
        "plt.title(f'Zone Minutes Per Day ({start_date.date()} to {end_date.date()})')\n",
        "plt.xlabel('Day and Date')\n",
        "plt.ylabel('Zone Minutes')\n",
        "plt.grid(axis='y', linestyle='--', alpha=0.6)\n",
        "plt.tight_layout()\n",
        "plt.show()\n",
        "\n",
        "\n",
        "\n"
      ],
      "metadata": {
        "id": "HUgGjxsOKpz1"
      },
      "execution_count": null,
      "outputs": []
    },
    {
      "cell_type": "markdown",
      "source": [
        "## HeartRate/Week"
      ],
      "metadata": {
        "id": "cuD9Njo8N4kj"
      }
    },
    {
      "cell_type": "code",
      "source": [
        "# Copy heart rate data\n",
        "heartrate_df = user_tables['Heart Rate'].copy()\n",
        "\n",
        "# Convert 'Time' to datetime\n",
        "heartrate_df['Time'] = pd.to_datetime(heartrate_df['Time'])\n",
        "\n",
        "# Extract date from datetime\n",
        "heartrate_df['Date'] = heartrate_df['Time'].dt.date\n",
        "\n",
        "# Define week range (Monday to Sunday)\n",
        "start_date = pd.to_datetime('2016-04-01')  # Monday\n",
        "end_date = pd.to_datetime('2016-04-07')    # Sunday\n",
        "\n",
        "# Filter data for the week\n",
        "mask = (heartrate_df['Date'] >= start_date.date()) & (heartrate_df['Date'] <= end_date.date())\n",
        "week_df = heartrate_df.loc[mask].copy() # Add .copy() to avoid SettingWithCopyWarning later\n",
        "\n",
        "# Check if the filtered DataFrame is empty\n",
        "if not week_df.empty:\n",
        "    # Group by Date and calculate average heart rate\n",
        "    avg_hr_by_date = week_df.groupby('Date')['Value'].mean()\n",
        "\n",
        "    # Sort by date (just to be safe)\n",
        "    avg_hr_by_date = avg_hr_by_date.sort_index()\n",
        "\n",
        "    # Plot average heart rate per day for the week\n",
        "    plt.figure(figsize=(10, 6))\n",
        "    avg_hr_by_date.plot(kind='bar', color='tomato')\n",
        "\n",
        "    plt.title(f'Average Heart Rate per Day ({start_date.date()} to {end_date.date()}) for User {user_id}')\n",
        "    plt.xlabel('Date')\n",
        "    plt.ylabel('Avg Heart Rate (bpm)')\n",
        "    plt.xticks(rotation=45)\n",
        "    plt.grid(axis='y', linestyle='--', alpha=0.6)\n",
        "    plt.tight_layout()\n",
        "    plt.show()\n",
        "else:\n",
        "    # Print a message if no data is found for the specified week\n",
        "    print(f\"No heart rate data available for the week from {start_date.date()} to {end_date.date()} for User {user_id}\")"
      ],
      "metadata": {
        "id": "1uZVUP3VN7UY"
      },
      "execution_count": null,
      "outputs": []
    }
  ],
  "metadata": {
    "colab": {
      "provenance": [],
      "mount_file_id": "160L8ZkqbBQac84dKxP0_dlSfONCvFDHC",
      "authorship_tag": "ABX9TyOA2e4JxE0NkIoGviVhysK0"
    },
    "kernelspec": {
      "display_name": "Python 3",
      "name": "python3"
    },
    "language_info": {
      "name": "python"
    }
  },
  "nbformat": 4,
  "nbformat_minor": 0
}