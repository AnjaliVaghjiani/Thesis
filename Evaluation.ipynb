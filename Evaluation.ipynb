{
  "nbformat": 4,
  "nbformat_minor": 0,
  "metadata": {
    "colab": {
      "provenance": [],
      "gpuType": "L4",
      "authorship_tag": "ABX9TyPL51499YxFEKuzfQhE+EPI",
      "include_colab_link": true
    },
    "kernelspec": {
      "name": "python3",
      "display_name": "Python 3"
    },
    "language_info": {
      "name": "python"
    },
    "accelerator": "GPU"
  },
  "cells": [
    {
      "cell_type": "markdown",
      "metadata": {
        "id": "view-in-github",
        "colab_type": "text"
      },
      "source": [
        "<a href=\"https://colab.research.google.com/github/AnjaliVaghjiani/Thesis/blob/main/Evaluation.ipynb\" target=\"_parent\"><img src=\"https://colab.research.google.com/assets/colab-badge.svg\" alt=\"Open In Colab\"/></a>"
      ]
    },
    {
      "cell_type": "markdown",
      "source": [
        "# Required Libraies"
      ],
      "metadata": {
        "id": "XxW8X-Tt1zeN"
      }
    },
    {
      "cell_type": "code",
      "execution_count": null,
      "metadata": {
        "id": "SfW3R4doJqmF"
      },
      "outputs": [],
      "source": [
        "!pip install datasets transformers sentence-transformers torch"
      ]
    },
    {
      "cell_type": "code",
      "source": [
        "!pip install bert-score"
      ],
      "metadata": {
        "id": "c2YiDOxcglFI"
      },
      "execution_count": null,
      "outputs": []
    },
    {
      "cell_type": "code",
      "source": [
        "!pip install evaluate"
      ],
      "metadata": {
        "id": "Ftr93JUm1nEY"
      },
      "execution_count": null,
      "outputs": []
    },
    {
      "cell_type": "code",
      "source": [
        "!pip install rouge_score"
      ],
      "metadata": {
        "id": "XpZp5s2y1yI2"
      },
      "execution_count": null,
      "outputs": []
    },
    {
      "cell_type": "markdown",
      "source": [
        "#data set"
      ],
      "metadata": {
        "id": "9SMZfC9n15I2"
      }
    },
    {
      "cell_type": "code",
      "source": [
        "from transformers import AutoModelForCausalLM, AutoTokenizer\n",
        "import torch\n",
        "\n",
        "model_name = \"kingabzpro/DeepSeek-R1-0528-Qwen3-8B-Medical-Reasoning\"\n",
        "# model_name = \"ContactDoctor/Bio-Medical-Llama-3-8B\"  # Hugging Face repo of your model\n",
        "# model_name = \"AnjaliNV/WellBeing_Coach_LLM\"  # Hugging Face repo of your model\n",
        "tokenizer = AutoTokenizer.from_pretrained(model_name)\n",
        "model = AutoModelForCausalLM.from_pretrained(\n",
        "    model_name,\n",
        "    torch_dtype=torch.float16,\n",
        "    device_map=\"auto\"\n",
        ")\n",
        "\n",
        "\n"
      ],
      "metadata": {
        "id": "yH8v5ae9J06Z"
      },
      "execution_count": null,
      "outputs": []
    },
    {
      "cell_type": "markdown",
      "source": [
        "## my data"
      ],
      "metadata": {
        "id": "VUGhyBuee8P0"
      }
    },
    {
      "cell_type": "code",
      "source": [
        "from datasets import load_dataset\n",
        "\n",
        "# Replace 'your_dataset_name' with the HF dataset repo ID\n",
        "dataset = load_dataset('AnjaliNV/Templete2', split='train')\n",
        "\n",
        "sample_size = 10  # adjust as needed\n",
        "\n",
        "# Randomly select sample_size entries\n",
        "dataset = dataset.shuffle(seed=42).select(range(sample_size))\n"
      ],
      "metadata": {
        "id": "BeboaH_MJyVa"
      },
      "execution_count": null,
      "outputs": []
    },
    {
      "cell_type": "code",
      "source": [
        "def generate_recommendation(profile):\n",
        "    prompt = f\"\"\"\n",
        "You are a professional well-being coach.\n",
        "Your role is to generate personalized well-being recommendations for the user.\n",
        "\n",
        "USER INPUT:\n",
        "{profile}\n",
        "\n",
        "INSTRUCTIONS:\n",
        "- Always follow the official guidelines before making any recommendation.\n",
        "- Do NOT over-recommend. Keep suggestions safe, concise, and realistic. Ask user to simple avoid the contradit food with their diet prefernce.\n",
        "- Always take into account the user’s age, sex, and fitness history.\n",
        "- Strictly follow the output template provided below. Do not add extra sections, headings, or commentary.\n",
        "- Keep tone supportive, professional, and encouraging.\n",
        "\n",
        "TASK:\n",
        "Based on the above user data, generate recommendations using EXACTLY the following structure:\n",
        "\n",
        "1) Food Recommendation\n",
        "- Overall Assessment: [...]\n",
        "- Areas of Improvements: [...]\n",
        "- Suggested Meals: [...]\n",
        "\n",
        "2) Physical Activity\n",
        "- Activity Assessment: [...]\n",
        "- Zone Minutes and Intensity Feedback: [...]\n",
        "- Strength/Cardio Tips: [Workout Suggestions]\n",
        "- Weekly Goals: [...]\n",
        "\n",
        "3) Sleep, Mood, Mental Health and Lifestyle\n",
        "- Sleep and Mood Review: [...]\n",
        "- Suggestions: [...]\n",
        "\n",
        "4) Weekly Summary\n",
        "- Summary: [...]\n",
        "- Goals: [...]\n",
        "\"\"\"\n",
        "    inputs = tokenizer(prompt, return_tensors=\"pt\").to(device)\n",
        "    input_length = inputs.input_ids.shape[1]\n",
        "    output_ids = model.generate(**inputs, max_new_tokens=700)\n",
        "    output_text = tokenizer.decode(output_ids[0][input_length:], skip_special_tokens=True)\n",
        "    return output_text\n"
      ],
      "metadata": {
        "id": "77yRhE5SJ5Ch"
      },
      "execution_count": null,
      "outputs": []
    },
    {
      "cell_type": "markdown",
      "source": [
        "# datasets food"
      ],
      "metadata": {
        "id": "RFmmikrke-cK"
      }
    },
    {
      "cell_type": "code",
      "source": [
        "import re\n",
        "import torch\n",
        "import pandas as pd\n",
        "from datasets import load_dataset\n",
        "from transformers import pipeline\n",
        "from sklearn.metrics import mean_absolute_error, mean_squared_error, r2_score\n",
        "import matplotlib.pyplot as plt\n",
        "import evaluate\n",
        "from sentence_transformers import SentenceTransformer, util\n",
        "\n",
        "# -----------------------\n",
        "# 1. Load Dataset\n",
        "# -----------------------\n",
        "dataset = load_dataset(\"dongx1997/NutriBench\", split=\"train\")  # or 'train'\n",
        "\n",
        "# Convert to DataFrame for convenience\n",
        "df = pd.DataFrame(dataset)\n",
        "\n",
        "# -----------------------\n",
        "# 2. Load Your LLM from Hugging Face\n",
        "# -----------------------\n",
        "# generator = pipeline(\"text-generation\", model=\"AnjaliNV/WellBeing_Coach_LLM\", device=0 if torch.cuda.is_available() else -1)\n",
        "# def generate_recommendation(prompt):\n",
        "#     device = \"cuda\" if torch.cuda.is_available() else \"cpu\"\n",
        "#     inputs = tokenizer(prompt, return_tensors=\"pt\").to(device)\n",
        "#     input_length = inputs.input_ids.shape[1]\n",
        "#     output_ids = model.generate(**inputs, max_new_tokens=100)\n",
        "#     output_text = tokenizer.decode(output_ids[0][input_length:], skip_special_tokens=True)\n",
        "#     return output_text\n",
        "\n",
        "# Hugging Face evaluation metrics\n",
        "\n",
        "bleu = evaluate.load(\"bleu\")\n",
        "rouge = evaluate.load(\"rouge\")\n",
        "bertscore = evaluate.load(\"bertscore\")\n",
        "\n",
        "# -----------------------\n",
        "# 3. Regex Helper: Extract Nutrition Numbers\n",
        "# -----------------------\n",
        "def extract_numbers(text):\n",
        "    numbers = re.findall(r\"(\\d+\\.?\\d*)\", text) # Modified regex to capture floats\n",
        "    if len(numbers) >= 4:\n",
        "        return {\"carb\": float(numbers[0]), \"fat\": float(numbers[1]),\n",
        "                \"protein\": float(numbers[2]), \"energy\": float(numbers[3])}\n",
        "    return {\"carb\": None, \"fat\": None, \"protein\": None, \"energy\": None}\n",
        "\n",
        "# -----------------------\n",
        "# 4. Generate Predictions\n",
        "# -----------------------\n",
        "references = []\n",
        "predictions = []\n",
        "predictions_num = []\n",
        "\n",
        "for i in range(100): # sample first 100 meals\n",
        "    meal = df[\"meal_description\"][i]\n",
        "    ref_text = f\"Carb: {df.loc[i,'carb']}g Fat: {df.loc[i,'fat']}g Protein: {df.loc[i,'protein']}g Energy: {df.loc[i,'energy']} kcal\"\n",
        "\n",
        "\n",
        "    prompt = f\"Estimate nutritional values for: {meal}. \" \\\n",
        "             f\"Format: Carb: X g, Fat: Y g, Protein: Z g, Energy: W kcal.\"\n",
        "    # output = generator(prompt, max_length=100, do_sample=False)[0][\"generated_text\"]\n",
        "    output = generate_recommendation(prompt)\n",
        "    references.append(ref_text)\n",
        "    predictions.append(output)\n",
        "    predictions_num.append(extract_numbers(output))\n",
        "\n",
        "pred_df = pd.DataFrame(predictions_num)\n",
        "# Filter df to only include the 100 rows used for prediction\n",
        "df_subset = df.iloc[:100].copy()\n",
        "\n",
        "df_eval = pd.concat([df_subset.reset_index(drop=True), pred_df.add_prefix(\"pred_\")], axis=1)\n",
        "\n",
        "# Fill NaN values with 0 for evaluation\n",
        "df_eval = df_eval.fillna(0)\n",
        "\n"
      ],
      "metadata": {
        "id": "EZV1v7-IfB8X"
      },
      "execution_count": null,
      "outputs": []
    },
    {
      "cell_type": "code",
      "source": [
        "# -----------------------\n",
        "# 5. Numeric Evaluation\n",
        "# -----------------------\n",
        "def evaluate_metric(true, pred, name):\n",
        "    mae = mean_absolute_error(true, pred)\n",
        "    mse = mean_squared_error(true, pred)\n",
        "    r2 = r2_score(true, pred)\n",
        "    print(f\"\\n{name} Evaluation → MAE: {mae:.2f}, MSE: {mse:.2f}, R²: {r2:.4f}\")\n",
        "    return mae, mse, r2\n",
        "\n",
        "numeric_results = {}\n",
        "for col in [\"carb\", \"fat\", \"protein\", \"energy\"]:\n",
        "    numeric_results[col] = evaluate_metric(df_eval[col], df_eval[f\"pred_{col}\"], col)\n",
        "\n",
        "# -----------------------\n",
        "# 6. Textual Evaluation\n",
        "# -----------------------\n",
        "# Semantic similarity (Sentence-BERT)\n",
        "embed_model = SentenceTransformer(\"all-MiniLM-L6-v2\")\n",
        "semantic_scores = []\n",
        "for ref, pred in zip(references, predictions):\n",
        "    emb_ref = embed_model.encode(ref, convert_to_tensor=True)\n",
        "    emb_pred = embed_model.encode(pred, convert_to_tensor=True)\n",
        "    semantic_scores.append(util.pytorch_cos_sim(emb_ref, emb_pred).item())\n",
        "avg_semantic = sum(semantic_scores) / len(semantic_scores)\n",
        "\n",
        "# BERTScore\n",
        "bertscore_results = bertscore.compute(predictions=predictions, references=references, lang=\"en\")\n",
        "avg_bert_f1 = sum(bertscore_results[\"f1\"]) / len(bertscore_results[\"f1\"])\n",
        "\n",
        "# Filter out empty predictions and references for BLEU and ROUGE\n",
        "filtered_predictions = [p for p, r in zip(predictions, references) if p and r]\n",
        "filtered_references = [r for p, r in zip(predictions, references) if p and r]\n",
        "\n",
        "# Initialize BLEU and ROUGE results with default values\n",
        "bleu_results = {'bleu': 0.0}\n",
        "rouge_results = {'rouge1': 0.0, 'rouge2': 0.0, 'rougeL': 0.0}\n",
        "\n",
        "# Compute BLEU and ROUGE only if there are valid predictions and references\n",
        "if filtered_predictions and filtered_references:\n",
        "    # BLEU\n",
        "    bleu_results = bleu.compute(predictions=filtered_predictions, references=filtered_references)\n",
        "\n",
        "    # ROUGE\n",
        "    rouge_results = rouge.compute(predictions=filtered_predictions, references=filtered_references)\n",
        "\n",
        "\n",
        "print(\"\\n📊 Text Evaluation Results\")\n",
        "print(f\"Semantic Similarity: {avg_semantic:.4f}\")\n",
        "print(f\"BERTScore F1: {avg_bert_f1:.4f}\")\n",
        "print(f\"BLEU: {bleu_results['bleu']:.4f}\")\n",
        "print(f\"ROUGE-1: {rouge_results['rouge1']:.4f}\")\n",
        "print(f\"ROUGE-2: {rouge_results['rouge2']:.4f}\")\n",
        "print(f\"ROUGE-L: {rouge_results['rougeL']:.4f}\")\n",
        "\n",
        "# # -----------------------\n",
        "# # 7. Visualizations\n",
        "# # -----------------------\n",
        "# # (A) Numeric Predictions vs Ground Truth\n",
        "# for col in [\"carb\", \"fat\", \"protein\", \"energy\"]:\n",
        "#     plt.figure(figsize=(6,4))\n",
        "#     plt.scatter(df_eval[col], df_eval[f\"pred_{col}\"], alpha=0.6)\n",
        "#     plt.plot([df_eval[col].min(), df_eval[col].max()], [df_eval[col].min(), df_eval[col].max()], 'r--')\n",
        "#     plt.xlabel(\"True Values\")\n",
        "#     plt.ylabel(\"Predicted Values\")\n",
        "#     plt.title(f\"{col.capitalize()} Predictions vs Ground Truth\")\n",
        "#     plt.savefig(f\"{col}_scatter.png\")\n",
        "#     plt.show()\n",
        "\n",
        "# # (B) Error Distribution\n",
        "# for col in [\"carb\", \"fat\", \"protein\", \"energy\"]:\n",
        "#     plt.figure(figsize=(6,4))\n",
        "#     errors = df_eval[f\"pred_{col}\"] - df_eval[col]\n",
        "#     plt.hist(errors, bins=20, alpha=0.7)\n",
        "#     plt.xlabel(\"Error\")\n",
        "#     plt.ylabel(\"Frequency\")\n",
        "#     plt.title(f\"Error Distribution for {col.capitalize()}\")\n",
        "#     plt.savefig(f\"{col}_error_hist.png\")\n",
        "#     plt.show()\n",
        "\n",
        "# (C) Text Metrics Bar Chart\n",
        "plt.figure(figsize=(6,4))\n",
        "plt.bar([\"SemanticSim\", \"BERTScore\", \"BLEU\", \"ROUGE1\", \"ROUGE2\", \"ROUGEL\"],\n",
        "        [avg_semantic, avg_bert_f1, bleu_results[\"bleu\"],\n",
        "         rouge_results[\"rouge1\"], rouge_results[\"rouge2\"], rouge_results[\"rougeL\"]])\n",
        "plt.title(\"Textual Evaluation Metrics\")\n",
        "plt.ylabel(\"Score\")\n",
        "plt.savefig(\"text_metrics.png\")\n",
        "plt.show()\n",
        "\n",
        "print(\"\\n✅ Full evaluation (numeric + text + visualizations) complete!\")"
      ],
      "metadata": {
        "id": "laqsCWhLluZY"
      },
      "execution_count": null,
      "outputs": []
    },
    {
      "cell_type": "markdown",
      "source": [
        "#Metal Health"
      ],
      "metadata": {
        "id": "G28Vedi4kqsj"
      }
    },
    {
      "cell_type": "code",
      "source": [
        "import torch\n",
        "from datasets import load_dataset\n",
        "from transformers import pipeline\n",
        "from sentence_transformers import SentenceTransformer, util\n",
        "import evaluate\n",
        "\n",
        "# ---------------------------\n",
        "# 1. Load Dataset\n",
        "# ---------------------------\n",
        "dataset = load_dataset(\"marmikpandya/mental-health\", split=\"train\")\n",
        "\n",
        "def generate_recommendation(prompt):\n",
        "    device = \"cuda\" if torch.cuda.is_available() else \"cpu\"\n",
        "    inputs = tokenizer(prompt, return_tensors=\"pt\").to(device)\n",
        "    input_length = inputs.input_ids.shape[1]\n",
        "    output_ids = model.generate(**inputs, max_new_tokens=100)\n",
        "    output_text = tokenizer.decode(output_ids[0][input_length:], skip_special_tokens=True)\n",
        "    return output_text\n",
        "\n",
        "# ---------------------------\n",
        "# 3. Load Metrics\n",
        "# ---------------------------\n",
        "bleu = evaluate.load(\"bleu\")\n",
        "rouge = evaluate.load(\"rouge\")\n",
        "bertscore = evaluate.load(\"bertscore\")\n",
        "embed_model = SentenceTransformer(\"all-MiniLM-L6-v2\")\n",
        "\n",
        "# ---------------------------\n",
        "# 4. Generate Predictions\n",
        "# ---------------------------\n",
        "references = []\n",
        "predictions = []\n",
        "\n",
        "for sample in dataset.select(range(100)):  # sample first 100 for speed\n",
        "    user_input = sample[\"input\"]\n",
        "    reference = sample[\"output\"]\n",
        "    instruction  = sample[\"instruction\"]\n",
        "    # Generate LLM output\n",
        "    prompt = f\"User: {user_input}\\n{instruction}:\"\n",
        "    llm_output = generate_recommendation(prompt)\n",
        "\n",
        "    # Append to lists\n",
        "    references.append(reference)\n",
        "    predictions.append(llm_output)"
      ],
      "metadata": {
        "id": "kcIt6gUtkuEH"
      },
      "execution_count": null,
      "outputs": []
    },
    {
      "cell_type": "code",
      "source": [
        "\n",
        "# ---------------------------\n",
        "# 5. Semantic Similarity\n",
        "# ---------------------------\n",
        "semantic_scores = []\n",
        "for ref, pred in zip(references, predictions):\n",
        "    emb_ref = embed_model.encode(ref, convert_to_tensor=True)\n",
        "    emb_pred = embed_model.encode(pred, convert_to_tensor=True)\n",
        "    semantic_scores.append(util.pytorch_cos_sim(emb_ref, emb_pred).item())\n",
        "avg_semantic = sum(semantic_scores) / len(semantic_scores)\n",
        "\n",
        "# ---------------------------\n",
        "# 6. BERTScore\n",
        "# ---------------------------\n",
        "bertscore_results = bertscore.compute(predictions=predictions, references=references, lang=\"en\")\n",
        "avg_bert_f1 = sum(bertscore_results[\"f1\"]) / len(bertscore_results[\"f1\"])\n",
        "\n",
        "# ---------------------------\n",
        "# 7. BLEU & ROUGE\n",
        "# ---------------------------\n",
        "bleu_results = bleu.compute(predictions=predictions, references=references)\n",
        "rouge_results = rouge.compute(predictions=predictions, references=references)\n",
        "\n",
        "# ---------------------------\n",
        "# 8. Print Results\n",
        "# ---------------------------\n",
        "print(\"\\n📊 Mental Health Model Evaluation\")\n",
        "print(f\"Semantic Similarity: {avg_semantic:.4f}\")\n",
        "print(f\"BERTScore F1: {avg_bert_f1:.4f}\")\n",
        "print(f\"BLEU: {bleu_results['bleu']:.4f}\")\n",
        "print(f\"ROUGE-1: {rouge_results['rouge1']:.4f}\")\n",
        "print(f\"ROUGE-2: {rouge_results['rouge2']:.4f}\")\n",
        "print(f\"ROUGE-L: {rouge_results['rougeL']:.4f}\")"
      ],
      "metadata": {
        "id": "P8YxBogDlljT"
      },
      "execution_count": null,
      "outputs": []
    },
    {
      "cell_type": "code",
      "metadata": {
        "id": "84e97a1d"
      },
      "source": [
        "import matplotlib.pyplot as plt\n",
        "import seaborn as sns\n",
        "\n",
        "# Assuming you have the following average scores from previous cells:\n",
        "# avg_semantic\n",
        "# avg_bert_f1\n",
        "# bleu_results['bleu']\n",
        "# rouge_results['rouge1']\n",
        "# rouge_results['rouge2']\n",
        "# rouge_results['rougeL']\n",
        "\n",
        "\n",
        "metrics = ['Semantic Similarity', 'BERTScore F1', 'BLEU', 'ROUGE-1', 'ROUGE-2', 'ROUGE-L']\n",
        "scores = [avg_semantic, avg_bert_f1, bleu_results['bleu'], rouge_results['rouge1'], rouge_results['rouge2'], rouge_results['rougeL']]\n",
        "\n",
        "plt.figure(figsize=(10, 6))\n",
        "sns.barplot(x=metrics, y=scores, palette=\"viridis\")\n",
        "plt.xticks(rotation=45, ha='right')\n",
        "plt.ylim(0, 1)\n",
        "plt.title(\"Model Evaluation Scores\")\n",
        "plt.ylabel(\"Score\")\n",
        "plt.tight_layout()\n",
        "plt.show()"
      ],
      "execution_count": null,
      "outputs": []
    },
    {
      "cell_type": "markdown",
      "source": [
        "# Fitness"
      ],
      "metadata": {
        "id": "MclHY94copfx"
      }
    },
    {
      "cell_type": "code",
      "source": [
        "import torch\n",
        "from datasets import load_dataset\n",
        "from transformers import pipeline\n",
        "from sentence_transformers import SentenceTransformer, util\n",
        "import evaluate\n",
        "\n",
        "# ---------------------------\n",
        "# 1. Load Dataset\n",
        "# ---------------------------\n",
        "dataset = load_dataset(\"HazSylvia/Fitness_Unformatted\", split=\"train\")\n",
        "\n",
        "def generate_recommendation(prompt):\n",
        "    device = \"cuda\" if torch.cuda.is_available() else \"cpu\"\n",
        "    inputs = tokenizer(prompt, return_tensors=\"pt\").to(device)\n",
        "    input_length = inputs.input_ids.shape[1]\n",
        "    output_ids = model.generate(**inputs, max_new_tokens=100)\n",
        "    output_text = tokenizer.decode(output_ids[0][input_length:], skip_special_tokens=True)\n",
        "    return output_text\n",
        "\n",
        "# ---------------------------\n",
        "# 3. Load Metrics\n",
        "# ---------------------------\n",
        "bleu = evaluate.load(\"bleu\")\n",
        "rouge = evaluate.load(\"rouge\")\n",
        "bertscore = evaluate.load(\"bertscore\")\n",
        "embed_model = SentenceTransformer(\"all-MiniLM-L6-v2\")\n",
        "\n",
        "# ---------------------------\n",
        "# 4. Generate Predictions\n",
        "# ---------------------------\n",
        "references = []\n",
        "predictions = []\n",
        "\n",
        "for sample in dataset.select(range(100)):  # sample first 100 for speed\n",
        "    user_input = sample[\"Human\"]\n",
        "    reference = sample[\"Assistant\"]\n",
        "    # Generate LLM output\n",
        "    prompt = f\"Question: {user_input}\\n:\"\n",
        "    llm_output = generate_recommendation(prompt)\n",
        "\n",
        "    # Append to lists\n",
        "    references.append(reference)\n",
        "    references.append(reference)\n",
        "    predictions.append(llm_output)\n",
        "\n"
      ],
      "metadata": {
        "id": "ac774cAJoswB"
      },
      "execution_count": null,
      "outputs": []
    },
    {
      "cell_type": "code",
      "source": [
        "# ---------------------------\n",
        "# 5. Semantic Similarity\n",
        "# ---------------------------\n",
        "# Create a new list with unique references\n",
        "unique_references = []\n",
        "for ref in references:\n",
        "    if ref not in unique_references:\n",
        "        unique_references.append(ref)\n",
        "\n",
        "semantic_scores = []\n",
        "for ref, pred in zip(unique_references, predictions):\n",
        "    emb_ref = embed_model.encode(ref, convert_to_tensor=True)\n",
        "    emb_pred = embed_model.encode(pred, convert_to_tensor=True)\n",
        "    semantic_scores.append(util.pytorch_cos_sim(emb_ref, emb_pred).item())\n",
        "avg_semantic = sum(semantic_scores) / len(semantic_scores)\n",
        "\n",
        "# ---------------------------\n",
        "# 6. BERTScore\n",
        "# ---------------------------\n",
        "bertscore_results = bertscore.compute(predictions=predictions, references=unique_references, lang=\"en\")\n",
        "avg_bert_f1 = sum(bertscore_results[\"f1\"]) / len(bertscore_results[\"f1\"])\n",
        "\n",
        "# ---------------------------\n",
        "# 7. BLEU & ROUGE\n",
        "# ---------------------------\n",
        "bleu_results = bleu.compute(predictions=predictions, references=unique_references)\n",
        "rouge_results = rouge.compute(predictions=predictions, references=unique_references)\n",
        "\n",
        "# ---------------------------\n",
        "# 8. Print Results\n",
        "# ---------------------------\n",
        "print(\"\\n📊 Fitness Model Evaluation\")\n",
        "print(f\"Semantic Similarity: {avg_semantic:.4f}\")\n",
        "print(f\"BERTScore F1: {avg_bert_f1:.4f}\")\n",
        "print(f\"BLEU: {bleu_results['bleu']:.4f}\")\n",
        "print(f\"ROUGE-1: {rouge_results['rouge1']:.4f}\")\n",
        "print(f\"ROUGE-2: {rouge_results['rouge2']:.4f}\")\n",
        "print(f\"ROUGE-L: {rouge_results['rougeL']:.4f}\")"
      ],
      "metadata": {
        "id": "TSkFqrAxozfn"
      },
      "execution_count": null,
      "outputs": []
    },
    {
      "cell_type": "markdown",
      "source": [
        "# fitbit"
      ],
      "metadata": {
        "id": "sn_5RvK2Rrt6"
      }
    },
    {
      "cell_type": "code",
      "source": [
        "import torch\n",
        "from datasets import load_dataset\n",
        "from transformers import pipeline\n",
        "from sentence_transformers import SentenceTransformer, util\n",
        "import evaluate\n",
        "\n",
        "device = \"cuda\" if torch.cuda.is_available() else \"cpu\"\n",
        "\n",
        "# ---------------------------\n",
        "# 3. Load Metrics\n",
        "# ---------------------------\n",
        "bleu = evaluate.load(\"bleu\")\n",
        "rouge = evaluate.load(\"rouge\")\n",
        "bertscore = evaluate.load(\"bertscore\")\n",
        "embed_model = SentenceTransformer(\"all-MiniLM-L6-v2\")\n",
        "\n",
        "# ---------------------------\n",
        "# 4. Generate Predictions\n",
        "# ---------------------------\n",
        "references = []\n",
        "predictions = []\n",
        "\n",
        "for sample in dataset.select(range(10)):  # sample first 100 for speed\n",
        "    user_input = sample[\"input\"]\n",
        "    reference = sample[\"output\"]\n",
        "    # Generate LLM output\n",
        "    prompt = f\"User_input: {user_input}\\n:\"\n",
        "    llm_output = generate_recommendation(prompt)\n",
        "\n",
        "    # Append to lists\n",
        "    references.append(reference)\n",
        "    references.append(reference)\n",
        "    predictions.append(llm_output)\n",
        "\n"
      ],
      "metadata": {
        "id": "3hepcuD1Rq-U"
      },
      "execution_count": null,
      "outputs": []
    },
    {
      "cell_type": "code",
      "source": [
        "# ---------------------------\n",
        "# 5. Semantic Similarity\n",
        "# ---------------------------\n",
        "# Create a new list with unique references\n",
        "unique_references = []\n",
        "for ref in references:\n",
        "    if ref not in unique_references:\n",
        "        unique_references.append(ref)\n",
        "\n",
        "semantic_scores = []\n",
        "for ref, pred in zip(unique_references, predictions):\n",
        "    emb_ref = embed_model.encode(ref, convert_to_tensor=True)\n",
        "    emb_pred = embed_model.encode(pred, convert_to_tensor=True)\n",
        "    semantic_scores.append(util.pytorch_cos_sim(emb_ref, emb_pred).item())\n",
        "avg_semantic = sum(semantic_scores) / len(semantic_scores)\n",
        "\n",
        "# ---------------------------\n",
        "# 6. BERTScore\n",
        "# ---------------------------\n",
        "bertscore_results = bertscore.compute(predictions=predictions, references=unique_references, lang=\"en\")\n",
        "avg_bert_f1 = sum(bertscore_results[\"f1\"]) / len(bertscore_results[\"f1\"])\n",
        "\n",
        "# ---------------------------\n",
        "# 7. BLEU & ROUGE\n",
        "# ---------------------------\n",
        "bleu_results = bleu.compute(predictions=predictions, references=unique_references)\n",
        "rouge_results = rouge.compute(predictions=predictions, references=unique_references)\n",
        "\n",
        "# ---------------------------\n",
        "# 8. Print Results\n",
        "# ---------------------------\n",
        "print(\"\\n📊 Fitness Model Evaluation\")\n",
        "print(f\"Semantic Similarity: {avg_semantic:.4f}\")\n",
        "print(f\"BERTScore F1: {avg_bert_f1:.4f}\")\n",
        "print(f\"BLEU: {bleu_results['bleu']:.4f}\")\n",
        "print(f\"ROUGE-1: {rouge_results['rouge1']:.4f}\")\n",
        "print(f\"ROUGE-2: {rouge_results['rouge2']:.4f}\")\n",
        "print(f\"ROUGE-L: {rouge_results['rougeL']:.4f}\")"
      ],
      "metadata": {
        "id": "o3WXPPRMR1_K"
      },
      "execution_count": null,
      "outputs": []
    },
    {
      "cell_type": "markdown",
      "source": [
        "#semantic similarity"
      ],
      "metadata": {
        "id": "IgY8C_5MhpnF"
      }
    },
    {
      "cell_type": "code",
      "source": [
        "from sentence_transformers import SentenceTransformer, util\n",
        "device = \"cuda\" if torch.cuda.is_available() else \"cpu\"\n",
        "# Load a lightweight Sentence-BERT model\n",
        "embed_model = SentenceTransformer('all-MiniLM-L6-v2')\n",
        "\n",
        "semantic_scores = []\n",
        "\n",
        "for sample in dataset:\n",
        "    profile = sample['input']\n",
        "    reference = sample['output']\n",
        "\n",
        "    llm_output = generate_recommendation(profile)\n",
        "\n",
        "    # Compute embeddings\n",
        "    emb_ref = embed_model.encode(reference, convert_to_tensor=True)\n",
        "    emb_llm = embed_model.encode(llm_output, convert_to_tensor=True)\n",
        "\n",
        "    # Cosine similarity\n",
        "    similarity = util.pytorch_cos_sim(emb_ref, emb_llm).item()\n",
        "    semantic_scores.append(similarity)\n",
        "\n",
        "# Average semantic similarity\n",
        "avg_similarity = sum(semantic_scores) / len(semantic_scores)\n",
        "print(\"Average Semantic Similarity:\", avg_similarity)\n"
      ],
      "metadata": {
        "id": "9PPrq_aGJ9Gf"
      },
      "execution_count": null,
      "outputs": []
    },
    {
      "cell_type": "code",
      "source": [
        "import matplotlib.pyplot as plt\n",
        "\n",
        "# Histogram of scores\n",
        "plt.figure(figsize=(10, 5))\n",
        "plt.hist(semantic_scores, bins=20, edgecolor='black', alpha=0.7)\n",
        "plt.axvline(avg_similarity, color='red', linestyle='--', label=f'Avg = {avg_similarity:.3f}')\n",
        "plt.title(\"Distribution of Semantic Similarity Scores\")\n",
        "plt.xlabel(\"Semantic Similarity\")\n",
        "plt.ylabel(\"Frequency\")\n",
        "plt.legend()\n",
        "plt.show()\n",
        "\n",
        "# Boxplot (to spot outliers / low scores)\n",
        "plt.figure(figsize=(6, 5))\n",
        "plt.boxplot(semantic_scores, vert=True, patch_artist=True)\n",
        "plt.axhline(avg_similarity, color='red', linestyle='--', label=f'Avg = {avg_similarity:.3f}')\n",
        "plt.title(\"Boxplot of Semantic Similarity Scores\")\n",
        "plt.ylabel(\"Semantic Similarity\")\n",
        "plt.legend()\n",
        "plt.show()\n"
      ],
      "metadata": {
        "id": "T9pzCQscUw2s"
      },
      "execution_count": null,
      "outputs": []
    },
    {
      "cell_type": "code",
      "source": [
        "import pandas as pd\n",
        "df = pd.DataFrame({\n",
        "    \"profile\": [sample['input'] for sample in dataset],\n",
        "    \"reference\": [sample['output'] for sample in dataset],\n",
        "    \"similarity\": semantic_scores\n",
        "})\n",
        "df.to_csv(\"semantic_evaluation_results.csv\", index=False)\n"
      ],
      "metadata": {
        "id": "pBzyMGYmJ_5N"
      },
      "execution_count": null,
      "outputs": []
    },
    {
      "cell_type": "markdown",
      "source": [
        "# bert evaluation"
      ],
      "metadata": {
        "id": "khIKjXT2gjFT"
      }
    },
    {
      "cell_type": "code",
      "source": [
        "import torch\n",
        "from bert_score import score\n",
        "device = \"cuda\" if torch.cuda.is_available() else \"cpu\"\n",
        "references = []\n",
        "hypotheses = []\n",
        "\n",
        "for sample in dataset:\n",
        "    profile = sample['input']\n",
        "    reference = sample['output']\n",
        "\n",
        "    llm_output = generate_recommendation(profile)\n",
        "\n",
        "    references.append(reference)\n",
        "    hypotheses.append(llm_output)\n",
        "\n",
        "    #BLUE\n",
        "    # ref_tokens = nltk.word_tokenize(reference.lower())\n",
        "    # hyp_tokens = nltk.word_tokenize(llm_output.lower())\n",
        "\n",
        "    # references.append([ref_tokens])  # corpus_bleu expects list of lists\n",
        "    # hypotheses.append(hyp_tokens)\n",
        "\n",
        "# Compute BERTScore (defaults to English RoBERTa-large)\n",
        "P, R, F1 = score(hypotheses, references, lang=\"en\", verbose=True)\n",
        "\n",
        "print(f\"Average Precision: {P.mean().item():.4f}\")\n",
        "print(f\"Average Recall: {R.mean().item():.4f}\")\n",
        "print(f\"Average F1 Score: {F1.mean().item():.4f}\")\n"
      ],
      "metadata": {
        "id": "sIDnUaftgm8d"
      },
      "execution_count": null,
      "outputs": []
    },
    {
      "cell_type": "code",
      "source": [
        "import matplotlib.pyplot as plt\n",
        "\n",
        "plt.hist(F1.tolist(), bins=20, edgecolor='black', alpha=0.7)\n",
        "plt.axvline(F1.mean().item(), color='red', linestyle='--', label=f'Avg F1 = {F1.mean().item():.3f}')\n",
        "plt.title(\"Distribution of BERTScore F1\")\n",
        "plt.xlabel(\"BERTScore F1\")\n",
        "plt.ylabel(\"Frequency\")\n",
        "plt.legend()\n",
        "plt.show()\n"
      ],
      "metadata": {
        "id": "4heFSRCKgr7h"
      },
      "execution_count": null,
      "outputs": []
    },
    {
      "cell_type": "markdown",
      "source": [
        "# BlEU Evaluation"
      ],
      "metadata": {
        "id": "7SISoeor0N0I"
      }
    },
    {
      "cell_type": "code",
      "source": [
        "import torch\n",
        "import evaluate\n",
        "from sentence_transformers import SentenceTransformer, util\n",
        "\n",
        "# Load evaluation metrics from Hugging Face\n",
        "bleu = evaluate.load(\"bleu\")\n",
        "rouge = evaluate.load(\"rouge\")\n",
        "bertscore = evaluate.load(\"bertscore\")\n",
        "\n",
        "# Load Sentence-BERT for semantic similarity\n",
        "device = \"cuda\" if torch.cuda.is_available() else \"cpu\"\n",
        "embed_model = SentenceTransformer('all-MiniLM-L6-v2', device=device)\n",
        "\n",
        "# -----------------------------\n",
        "# Collect references & predictions\n",
        "# -----------------------------\n",
        "references = []\n",
        "predictions = []\n",
        "\n",
        "for sample in dataset:\n",
        "    profile = sample['input']\n",
        "    reference = sample['output']\n",
        "\n",
        "    llm_output = generate_recommendation(profile)\n",
        "\n",
        "    references.append(reference)\n",
        "    predictions.append(llm_output)\n",
        "\n",
        "# -----------------------------\n",
        "# 1. Semantic Similarity\n",
        "# -----------------------------\n",
        "semantic_scores = []\n",
        "for ref, pred in zip(references, predictions):\n",
        "    emb_ref = embed_model.encode(ref, convert_to_tensor=True)\n",
        "    emb_pred = embed_model.encode(pred, convert_to_tensor=True)\n",
        "    similarity = util.pytorch_cos_sim(emb_ref, emb_pred).item()\n",
        "    semantic_scores.append(similarity)\n",
        "\n",
        "avg_semantic = sum(semantic_scores) / len(semantic_scores)\n",
        "\n",
        "# -----------------------------\n",
        "# 2. BERTScore\n",
        "# -----------------------------\n",
        "bertscore_results = bertscore.compute(predictions=predictions, references=references, lang=\"en\")\n",
        "\n",
        "avg_bertscore_f1 = sum(bertscore_results[\"f1\"]) / len(bertscore_results[\"f1\"])\n",
        "\n",
        "# -----------------------------\n",
        "# 3. BLEU\n",
        "# -----------------------------\n",
        "bleu_results = bleu.compute(predictions=predictions, references=references)\n",
        "\n",
        "# -----------------------------\n",
        "# 4. ROUGE\n",
        "# -----------------------------\n",
        "rouge_results = rouge.compute(predictions=predictions, references=references)\n",
        "\n",
        "# -----------------------------\n",
        "# Print Results\n",
        "# -----------------------------\n",
        "print(\"\\n📊 Evaluation Results\")\n",
        "print(f\"Semantic Similarity (Sentence-BERT cosine): {avg_semantic:.4f}\")\n",
        "print(f\"BERTScore F1: {avg_bertscore_f1:.4f}\")\n",
        "print(f\"BLEU: {bleu_results['bleu']:.4f}\")\n",
        "print(f\"ROUGE-1: {rouge_results['rouge1']:.4f}\")\n",
        "print(f\"ROUGE-2: {rouge_results['rouge2']:.4f}\")\n",
        "print(f\"ROUGE-L: {rouge_results['rougeL']:.4f}\")\n"
      ],
      "metadata": {
        "id": "zM7lyVDb0QCN"
      },
      "execution_count": null,
      "outputs": []
    },
    {
      "cell_type": "code",
      "source": [
        "import matplotlib.pyplot as plt\n",
        "import seaborn as sns\n",
        "\n",
        "# Example average scores (replace with your actual results)\n",
        "avg_semantic = 0.76\n",
        "avg_bertscore_f1 = 0.82\n",
        "bleu_score = 0.41\n",
        "rouge1 = 0.65\n",
        "rouge2 = 0.45\n",
        "rougeL = 0.62\n",
        "\n",
        "# ------------------------------\n",
        "# 1. Bar Chart of Averages\n",
        "# ------------------------------\n",
        "metrics = ['Semantic Similarity', 'BERTScore F1', 'BLEU', 'ROUGE-1', 'ROUGE-2', 'ROUGE-L']\n",
        "scores = [avg_semantic, avg_bertscore_f1, bleu_score, rouge1, rouge2, rougeL]\n",
        "\n",
        "plt.figure(figsize=(10,6))\n",
        "sns.barplot(x=metrics, y=scores, palette=\"viridis\")\n",
        "plt.xticks(rotation=45)\n",
        "plt.ylim(0,1)\n",
        "plt.title(\"Average Model Evaluation Scores\")\n",
        "plt.ylabel(\"Score\")\n",
        "plt.show()\n",
        "\n",
        "# ------------------------------\n",
        "# 2. Distribution of Semantic Similarity\n",
        "# ------------------------------\n",
        "plt.figure(figsize=(8,5))\n",
        "sns.histplot(semantic_scores, kde=True, bins=20, color=\"blue\", edgecolor=\"black\")\n",
        "plt.axvline(avg_semantic, color=\"red\", linestyle=\"--\", label=f\"Avg = {avg_semantic:.3f}\")\n",
        "plt.title(\"Distribution of Semantic Similarity Scores\")\n",
        "plt.xlabel(\"Semantic Similarity\")\n",
        "plt.ylabel(\"Frequency\")\n",
        "plt.legend()\n",
        "plt.show()\n",
        "\n",
        "\n"
      ],
      "metadata": {
        "id": "sAgawU2Q2Lii"
      },
      "execution_count": null,
      "outputs": []
    },
    {
      "cell_type": "code",
      "source": [
        "import matplotlib.pyplot as plt\n",
        "\n",
        "plt.hist(semantic_scores, bins=20, color=\"skyblue\", edgecolor=\"black\")\n",
        "plt.xlabel(\"Semantic Similarity Score\")\n",
        "plt.ylabel(\"Frequency\")\n",
        "plt.title(\"Distribution of Semantic Similarity (Reference vs Prediction)\")\n",
        "plt.show()\n"
      ],
      "metadata": {
        "id": "8X5A0QOr3h7q"
      },
      "execution_count": null,
      "outputs": []
    },
    {
      "cell_type": "markdown",
      "source": [
        "# G-EVAL"
      ],
      "metadata": {
        "id": "rE7yDFk8ONce"
      }
    },
    {
      "cell_type": "code",
      "source": [
        "!pip install deepeval datasets transformers"
      ],
      "metadata": {
        "id": "PcFkbsKmOP89"
      },
      "execution_count": null,
      "outputs": []
    },
    {
      "cell_type": "code",
      "metadata": {
        "id": "ea005e88"
      },
      "source": [
        "import os\n",
        "from google.colab import userdata\n",
        "\n",
        "# Set your OpenAI API key from Colab's user data\n",
        "os.environ[\"OPENAI_API_KEY\"] = userdata.get(\"OPENAI_API_KEY\")\n",
        "\n",
        "# Now you can run your evaluation code\n",
        "# ... (your existing code to initialize and run GEval metrics)"
      ],
      "execution_count": null,
      "outputs": []
    },
    {
      "cell_type": "code",
      "source": [
        "from datasets import load_dataset\n",
        "\n",
        "# Load dataset from Hugging Face\n",
        "dataset = load_dataset(\"AnjaliNV/Templete2\", split=\"train\")\n",
        "sample_size = 50  # adjust as needed\n",
        "\n",
        "# Randomly select sample_size entries\n",
        "dataset = dataset.shuffle(seed=42).select(range(sample_size))"
      ],
      "metadata": {
        "id": "SugCzPNMOWtJ"
      },
      "execution_count": null,
      "outputs": []
    },
    {
      "cell_type": "code",
      "source": [
        "from transformers import pipeline\n",
        "\n",
        "# Load your model from Hugging Face hub\n",
        "model_name = \"AnjaliNV/WellBeing_Coach_LLM\"\n",
        "generator = pipeline(\"text-generation\", model=model_name, device=0)  # set device=-1 if CPU only\n"
      ],
      "metadata": {
        "id": "gC_919D8PSYx"
      },
      "execution_count": null,
      "outputs": []
    },
    {
      "cell_type": "code",
      "source": [
        "from deepeval.test_case import LLMTestCase\n",
        "\n",
        "test_cases = []\n",
        "\n",
        "for sample in dataset:\n",
        "    user_input = sample[\"input\"]\n",
        "\n",
        "    # Generate output using your model\n",
        "    prompt = f\"\"\"\n",
        "    user_data :\n",
        "     {user_input}\n",
        "    You are a well-being coach. Based on the provided user data, generate personalized well-being recommendations. Follow the exact template provided below and do not deviate from its structure.\n",
        "\n",
        "1) Food Recommendation\n",
        "- Overall Assessment: [...]\n",
        "- Areas of Improvements: [...]\n",
        "- Suggested Meals: [...]\n",
        "\n",
        "2) Physical Activity\n",
        "- Activity Assessment: [...]\n",
        "- Zone Minutes and intensity Feedback\n",
        "- Strength/Cardio Tips: [Workout Suggestions]\n",
        "- Weekly Goals: [...]\n",
        "\n",
        "3) Sleep , Mood , Mental Heath and Lifestyle\n",
        "- Sleep and Mood Review: []\n",
        "- Suggestions: [Positive suggestion to improve sleep, mental health and lifestyle]]\n",
        "\n",
        "4) Weekly Summary\n",
        "- Summary: [...]\n",
        "- Goals: [...]\n",
        "\"\"\"\n",
        "    output = generator(\n",
        "    prompt,\n",
        "    max_new_tokens=700,   # allow long answers\n",
        "    do_sample=True,\n",
        "    temperature=0.7,       # keep a bit of diversity\n",
        "    top_p=0.9\n",
        ")[0][\"generated_text\"]\n",
        "\n",
        "\n",
        "    # Wrap into test case\n",
        "    test_case = LLMTestCase(\n",
        "        input=user_input,\n",
        "        actual_output=output\n",
        "    )\n",
        "    test_cases.append(test_case)\n",
        "\n",
        "print(\"Prepared\", len(test_cases), \"test cases\")\n"
      ],
      "metadata": {
        "id": "dpSRW2SoPd4b"
      },
      "execution_count": null,
      "outputs": []
    },
    {
      "cell_type": "code",
      "source": [
        "from deepeval.metrics import GEval\n",
        "from deepeval.test_case import LLMTestCaseParams\n",
        "import numpy as np\n",
        "\n",
        "# Example: Evaluate coherence\n",
        "coherence_metric = GEval(\n",
        "    name=\"Coherence\",\n",
        "    criteria=\"The answer should be logically structured and easy to follow.\",\n",
        "    evaluation_params=[LLMTestCaseParams.ACTUAL_OUTPUT],\n",
        ")\n",
        "\n",
        "# Run evaluation\n",
        "for test_case in test_cases:  # just test on first 5 for now\n",
        "    coherence_metric.measure(test_case)\n",
        "\n",
        "\n",
        "\n",
        "relevance_metric = GEval(\n",
        "    name=\"Relevance\",\n",
        "    criteria=\"The output should directly answer the user input without going off-topic.\",\n",
        "    evaluation_params=[LLMTestCaseParams.ACTUAL_OUTPUT],\n",
        ")\n",
        "\n",
        "factuality_metric = GEval(\n",
        "    name=\"Factuality\",\n",
        "    criteria=\"The answer must be factually correct according to domain knowledge.\",\n",
        "    evaluation_params=[LLMTestCaseParams.ACTUAL_OUTPUT],\n",
        ")\n",
        "personalization_metric = GEval(\n",
        "    name=\"Personalization\",\n",
        "    criteria=\"The response should adapt recommendations to the given user data (gender, steps, food, sleep).\",\n",
        "    evaluation_params=[LLMTestCaseParams.ACTUAL_OUTPUT],\n",
        ")\n",
        "\n",
        "safety_metric = GEval(\n",
        "    name=\"Safety\",\n",
        "    criteria=\"The output must avoid harmful, misleading, or unsafe recommendations.\",\n",
        "    evaluation_params=[LLMTestCaseParams.ACTUAL_OUTPUT],\n",
        ")\n",
        "\n",
        "usability_metric = GEval(\n",
        "    name=\"Usability\",\n",
        "    criteria=\"The answer should be concise, actionable, and easy for a layperson to follow.\",\n",
        "    evaluation_params=[LLMTestCaseParams.ACTUAL_OUTPUT],\n",
        ")\n",
        "metrics = {\n",
        "    \"Coherence\": coherence_metric,\n",
        "    \"Relevance\": relevance_metric,\n",
        "    \"Factuality\": factuality_metric\n",
        "}\n",
        "\n",
        "metrics.update({\n",
        "    \"Personalization\": personalization_metric,\n",
        "    \"Safety\": safety_metric,\n",
        "    \"Usability\": usability_metric\n",
        "})\n",
        "\n",
        "\n",
        "\n",
        "results = {name: [] for name in metrics.keys()}\n",
        "\n",
        "# Run evaluation\n",
        "for test_case in test_cases:\n",
        "    for name, metric in metrics.items():\n",
        "        metric.measure(test_case)\n",
        "        results[name].append(metric.score)\n",
        "\n",
        "# Compute averages\n",
        "avg_scores = {name: np.mean(scores) for name, scores in results.items()}\n",
        "print(\"Average Scores:\", avg_scores)\n"
      ],
      "metadata": {
        "collapsed": true,
        "id": "zBAsawxrPsru"
      },
      "execution_count": null,
      "outputs": []
    },
    {
      "cell_type": "code",
      "source": [
        "import matplotlib.pyplot as plt\n",
        "\n",
        "names = list(avg_scores.keys())\n",
        "values = list(avg_scores.values())\n",
        "\n",
        "plt.figure(figsize=(8,5))\n",
        "plt.bar(names, values)\n",
        "plt.ylabel(\"Average Score\")\n",
        "plt.title(\"LLM Evaluation Metrics\")\n",
        "plt.xticks(rotation=30)\n",
        "plt.show()\n"
      ],
      "metadata": {
        "id": "ZhP7eKzHTzhV"
      },
      "execution_count": null,
      "outputs": []
    },
    {
      "cell_type": "code",
      "source": [
        "import matplotlib.pyplot as plt\n",
        "import numpy as np\n",
        "\n",
        "categories = list(avg_scores.keys())\n",
        "values = list(avg_scores.values())\n",
        "\n",
        "N = len(categories)\n",
        "\n",
        "# Repeat first value to close radar chart loop\n",
        "values += values[:1]\n",
        "angles = np.linspace(0, 2*np.pi, N, endpoint=False).tolist()\n",
        "angles += angles[:1]\n",
        "\n",
        "fig, ax = plt.subplots(figsize=(6,6), subplot_kw=dict(polar=True))\n",
        "ax.plot(angles, values, linewidth=2, linestyle='solid')\n",
        "ax.fill(angles, values, alpha=0.25)\n",
        "\n",
        "ax.set_xticks(angles[:-1])\n",
        "ax.set_xticklabels(categories)\n",
        "ax.set_yticks([0.2,0.4,0.6,0.8,1.0])\n",
        "plt.title(\"LLM Evaluation (Average Scores)\")\n",
        "plt.show()\n"
      ],
      "metadata": {
        "id": "ueRfC1wBT4PN"
      },
      "execution_count": null,
      "outputs": []
    },
    {
      "cell_type": "code",
      "source": [
        "\n",
        "categories = list(avg_scores.keys())\n",
        "values = list(avg_scores.values())\n",
        "\n",
        "# Bar chart\n",
        "plt.figure(figsize=(8,5))\n",
        "plt.bar(categories, values)\n",
        "plt.ylabel(\"Average Score\")\n",
        "plt.title(\"LLM Evaluation Metrics (Aggregated)\")\n",
        "plt.ylim(0, 1)  # since scores are usually between 0–1\n",
        "plt.show()\n",
        "\n",
        "# Radar chart (for multi-dimension visualization)\n",
        "N = len(categories)\n",
        "values += values[:1]  # close radar loop\n",
        "angles = np.linspace(0, 2*np.pi, N, endpoint=False).tolist()\n",
        "angles += angles[:1]\n",
        "\n",
        "fig, ax = plt.subplots(figsize=(6,6), subplot_kw=dict(polar=True))\n",
        "ax.plot(angles, values, linewidth=2, linestyle='solid')\n",
        "ax.fill(angles, values, alpha=0.25)\n",
        "\n",
        "ax.set_xticks(angles[:-1])\n",
        "ax.set_xticklabels(categories)\n",
        "ax.set_yticks([0.2,0.4,0.6,0.8,1.0])\n",
        "plt.title(\"LLM Evaluation (Accuracy, Relevance, Personalization, Safety, Usability)\")\n",
        "plt.show()"
      ],
      "metadata": {
        "id": "P48zDKvbUljR"
      },
      "execution_count": null,
      "outputs": []
    }
  ]
}