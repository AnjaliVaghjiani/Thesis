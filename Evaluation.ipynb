{
  "nbformat": 4,
  "nbformat_minor": 0,
  "metadata": {
    "colab": {
      "provenance": [],
      "gpuType": "L4",
      "authorship_tag": "ABX9TyPTM2P7blns+vXbLe2G/wy6",
      "include_colab_link": true
    },
    "kernelspec": {
      "name": "python3",
      "display_name": "Python 3"
    },
    "language_info": {
      "name": "python"
    },
    "accelerator": "GPU"
  },
  "cells": [
    {
      "cell_type": "markdown",
      "metadata": {
        "id": "view-in-github",
        "colab_type": "text"
      },
      "source": [
        "<a href=\"https://colab.research.google.com/github/AnjaliVaghjiani/Thesis/blob/main/Evaluation.ipynb\" target=\"_parent\"><img src=\"https://colab.research.google.com/assets/colab-badge.svg\" alt=\"Open In Colab\"/></a>"
      ]
    },
    {
      "cell_type": "code",
      "execution_count": null,
      "metadata": {
        "id": "SfW3R4doJqmF"
      },
      "outputs": [],
      "source": [
        "!pip install datasets transformers sentence-transformers torch"
      ]
    },
    {
      "cell_type": "code",
      "source": [
        "from datasets import load_dataset\n",
        "\n",
        "# Replace 'your_dataset_name' with the HF dataset repo ID\n",
        "dataset = load_dataset('AnjaliNV/Templete2', split='train')\n",
        "\n",
        "sample_size = 100  # adjust as needed\n",
        "\n",
        "# Randomly select sample_size entries\n",
        "dataset = dataset.shuffle(seed=42).select(range(sample_size))\n"
      ],
      "metadata": {
        "id": "BeboaH_MJyVa"
      },
      "execution_count": null,
      "outputs": []
    },
    {
      "cell_type": "code",
      "source": [
        "from transformers import AutoModelForCausalLM, AutoTokenizer\n",
        "import torch\n",
        "\n",
        "model_name = \"AnjaliNV/WellBeing_Coach_LLM\"  # Hugging Face repo of your model\n",
        "\n",
        "tokenizer = AutoTokenizer.from_pretrained(model_name)\n",
        "model = AutoModelForCausalLM.from_pretrained(\n",
        "    model_name,\n",
        "    torch_dtype=torch.float16,\n",
        "    device_map=\"auto\"\n",
        ")\n",
        "\n",
        "\n"
      ],
      "metadata": {
        "id": "yH8v5ae9J06Z"
      },
      "execution_count": null,
      "outputs": []
    },
    {
      "cell_type": "code",
      "source": [
        "def generate_recommendation(profile):\n",
        "    prompt = f\"\"\"\n",
        "You are a professional well-being coach.\n",
        "Your role is to generate personalized well-being recommendations for the user.\n",
        "\n",
        "USER INPUT:\n",
        "{profile}\n",
        "\n",
        "INSTRUCTIONS:\n",
        "- Always follow the official guidelines before making any recommendation.\n",
        "- Do NOT over-recommend. Keep suggestions safe, concise, and realistic. Ask user to simple avoid the contradit food with their diet prefernce.\n",
        "- Always take into account the user’s age, sex, and fitness history.\n",
        "- Strictly follow the output template provided below. Do not add extra sections, headings, or commentary.\n",
        "- Keep tone supportive, professional, and encouraging.\n",
        "\n",
        "TASK:\n",
        "Based on the above user data, generate recommendations using EXACTLY the following structure:\n",
        "\n",
        "1) Food Recommendation\n",
        "- Overall Assessment: [...]\n",
        "- Areas of Improvements: [...]\n",
        "- Suggested Meals: [...]\n",
        "\n",
        "2) Physical Activity\n",
        "- Activity Assessment: [...]\n",
        "- Zone Minutes and Intensity Feedback: [...]\n",
        "- Strength/Cardio Tips: [Workout Suggestions]\n",
        "- Weekly Goals: [...]\n",
        "\n",
        "3) Sleep, Mood, Mental Health and Lifestyle\n",
        "- Sleep and Mood Review: [...]\n",
        "- Suggestions: [...]\n",
        "\n",
        "4) Weekly Summary\n",
        "- Summary: [...]\n",
        "- Goals: [...]\n",
        "\"\"\"\n",
        "    inputs = tokenizer(prompt, return_tensors=\"pt\").to(device)\n",
        "    input_length = inputs.input_ids.shape[1]\n",
        "    output_ids = model.generate(**inputs, max_new_tokens=700)\n",
        "    output_text = tokenizer.decode(output_ids[0][input_length:], skip_special_tokens=True)\n",
        "    return output_text\n"
      ],
      "metadata": {
        "id": "77yRhE5SJ5Ch"
      },
      "execution_count": null,
      "outputs": []
    },
    {
      "cell_type": "code",
      "source": [
        "from sentence_transformers import SentenceTransformer, util\n",
        "device = \"cuda\" if torch.cuda.is_available() else \"cpu\"\n",
        "# Load a lightweight Sentence-BERT model\n",
        "embed_model = SentenceTransformer('all-MiniLM-L6-v2')\n",
        "\n",
        "semantic_scores = []\n",
        "\n",
        "for sample in dataset:\n",
        "    profile = sample['input']\n",
        "    reference = sample['output']\n",
        "\n",
        "    llm_output = generate_recommendation(profile)\n",
        "\n",
        "    # Compute embeddings\n",
        "    emb_ref = embed_model.encode(reference, convert_to_tensor=True)\n",
        "    emb_llm = embed_model.encode(llm_output, convert_to_tensor=True)\n",
        "\n",
        "    # Cosine similarity\n",
        "    similarity = util.pytorch_cos_sim(emb_ref, emb_llm).item()\n",
        "    semantic_scores.append(similarity)\n",
        "\n",
        "# Average semantic similarity\n",
        "avg_similarity = sum(semantic_scores) / len(semantic_scores)\n",
        "print(\"Average Semantic Similarity:\", avg_similarity)\n"
      ],
      "metadata": {
        "id": "9PPrq_aGJ9Gf"
      },
      "execution_count": null,
      "outputs": []
    },
    {
      "cell_type": "code",
      "source": [
        "import matplotlib.pyplot as plt\n",
        "\n",
        "# Histogram of scores\n",
        "plt.figure(figsize=(10, 5))\n",
        "plt.hist(semantic_scores, bins=20, edgecolor='black', alpha=0.7)\n",
        "plt.axvline(avg_similarity, color='red', linestyle='--', label=f'Avg = {avg_similarity:.3f}')\n",
        "plt.title(\"Distribution of Semantic Similarity Scores\")\n",
        "plt.xlabel(\"Semantic Similarity\")\n",
        "plt.ylabel(\"Frequency\")\n",
        "plt.legend()\n",
        "plt.show()\n",
        "\n",
        "# Boxplot (to spot outliers / low scores)\n",
        "plt.figure(figsize=(6, 5))\n",
        "plt.boxplot(semantic_scores, vert=True, patch_artist=True)\n",
        "plt.axhline(avg_similarity, color='red', linestyle='--', label=f'Avg = {avg_similarity:.3f}')\n",
        "plt.title(\"Boxplot of Semantic Similarity Scores\")\n",
        "plt.ylabel(\"Semantic Similarity\")\n",
        "plt.legend()\n",
        "plt.show()\n"
      ],
      "metadata": {
        "id": "T9pzCQscUw2s"
      },
      "execution_count": null,
      "outputs": []
    },
    {
      "cell_type": "code",
      "source": [
        "import pandas as pd\n",
        "df = pd.DataFrame({\n",
        "    \"profile\": [sample['input'] for sample in dataset],\n",
        "    \"reference\": [sample['output'] for sample in dataset],\n",
        "    \"similarity\": semantic_scores\n",
        "})\n",
        "df.to_csv(\"semantic_evaluation_results.csv\", index=False)\n"
      ],
      "metadata": {
        "id": "pBzyMGYmJ_5N"
      },
      "execution_count": null,
      "outputs": []
    }
  ]
}